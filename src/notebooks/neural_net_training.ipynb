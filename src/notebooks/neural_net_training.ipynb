{
 "cells": [
  {
   "cell_type": "markdown",
   "metadata": {
    "id": "nZW5Sq-b1eXK"
   },
   "source": [
    "# Getting The Data"
   ]
  },
  {
   "cell_type": "code",
   "execution_count": 1,
   "metadata": {
    "id": "XmmtGpBX1jJH"
   },
   "outputs": [
    {
     "ename": "ModuleNotFoundError",
     "evalue": "No module named 'google'",
     "output_type": "error",
     "traceback": [
      "\u001b[0;31m---------------------------------------------------------------------------\u001b[0m",
      "\u001b[0;31mModuleNotFoundError\u001b[0m                       Traceback (most recent call last)",
      "\u001b[0;32m<ipython-input-1-a220a3d0ac20>\u001b[0m in \u001b[0;36m<module>\u001b[0;34m\u001b[0m\n\u001b[1;32m     12\u001b[0m \u001b[0;32mimport\u001b[0m \u001b[0mmatplotlib\u001b[0m\u001b[0;34m.\u001b[0m\u001b[0mpyplot\u001b[0m \u001b[0;32mas\u001b[0m \u001b[0mplt\u001b[0m\u001b[0;34m\u001b[0m\u001b[0;34m\u001b[0m\u001b[0m\n\u001b[1;32m     13\u001b[0m \u001b[0;32mfrom\u001b[0m \u001b[0mtqdm\u001b[0m \u001b[0;32mimport\u001b[0m \u001b[0mtqdm\u001b[0m\u001b[0;34m,\u001b[0m \u001b[0mtrange\u001b[0m\u001b[0;34m\u001b[0m\u001b[0;34m\u001b[0m\u001b[0m\n\u001b[0;32m---> 14\u001b[0;31m \u001b[0;32mfrom\u001b[0m \u001b[0mgoogle\u001b[0m\u001b[0;34m.\u001b[0m\u001b[0mcolab\u001b[0m \u001b[0;32mimport\u001b[0m \u001b[0mdrive\u001b[0m\u001b[0;34m\u001b[0m\u001b[0;34m\u001b[0m\u001b[0m\n\u001b[0m",
      "\u001b[0;31mModuleNotFoundError\u001b[0m: No module named 'google'"
     ]
    }
   ],
   "source": [
    "import os\n",
    "import torch\n",
    "from torch import optim\n",
    "from torch.utils.data import Dataset\n",
    "from torchvision.datasets import ImageFolder\n",
    "from torchvision.datasets.utils import download_and_extract_archive, check_integrity\n",
    "from torchvision.datasets.folder import default_loader\n",
    "from torchvision import transforms\n",
    "import torch.nn as nn\n",
    "import torch.nn.functional as F\n",
    "import numpy as np\n",
    "import matplotlib.pyplot as plt\n",
    "from tqdm import tqdm, trange\n",
    "from google.colab import drive"
   ]
  },
  {
   "cell_type": "code",
   "execution_count": null,
   "metadata": {
    "colab": {
     "base_uri": "https://localhost:8080/"
    },
    "id": "xtnyJxhF6V8y",
    "outputId": "59152af8-7da9-4b5e-c585-88680a6e0281"
   },
   "outputs": [
    {
     "name": "stdout",
     "output_type": "stream",
     "text": [
      "cuda:0\n"
     ]
    }
   ],
   "source": [
    "device = torch.device(\"cuda:0\" if torch.cuda.is_available() else \"cpu\")\n",
    "print(device)"
   ]
  },
  {
   "cell_type": "code",
   "execution_count": null,
   "metadata": {
    "id": "jbXGALk62EQ4"
   },
   "outputs": [],
   "source": [
    "torch.manual_seed(0)\n",
    "\n",
    "class EuroSat(ImageFolder):\n",
    "  \"\"\"Data Class\"\"\"\n",
    "  def __init__(self, root='data', transform=None, target_transform=None):\n",
    "    self.download(root)\n",
    "    root = './data/2750/'\n",
    "    super().__init__(root, transform=transform, target_transform=target_transform)\n",
    "\n",
    "  @staticmethod\n",
    "  def download(root):\n",
    "    \"\"\"Downloads and Extracts the Data\"\"\"\n",
    "    if not check_integrity(os.path.join(root, \"EuroSAT.zip\")):\n",
    "      download_and_extract_archive('http://madm.dfki.de/files/sentinel/EuroSAT.zip',\n",
    "                                   root)\n",
    "\n",
    "class ImageFiles(Dataset):\n",
    "  \"\"\"DataLoader\"\"\"\n",
    "  def __init__(self, paths, loader=default_loader, transform=None):\n",
    "    self.paths = paths\n",
    "    self.loader = loader\n",
    "    self.transform = transform\n",
    "\n",
    "  def __getitem__(self,id):\n",
    "    \"\"\"Overwrite get item method\"\"\"\n",
    "    image = self.loader(self.paths[id])\n",
    "    if self.transform is not None:\n",
    "      image = self.transform(image)\n",
    "    return image, -1\n",
    "\n",
    "  def __len__(self):\n",
    "    \"\"\"Overwrite get len method\"\"\"\n",
    "    return len(self.paths)\n",
    "\n",
    "def random_split(dataset, ratio=0.9):\n",
    "  \"\"\"Splits training and testing data\"\"\"\n",
    "  split_size = int(len(dataset) * ratio)\n",
    "  split = torch.utils.data.random_split(dataset, [split_size, len(dataset) - split_size])\n",
    "  return split"
   ]
  },
  {
   "cell_type": "code",
   "execution_count": null,
   "metadata": {
    "id": "qKZu4XoT8eFp"
   },
   "outputs": [],
   "source": [
    "classes = ['AnnualCrop', 'Forest', 'HerbaceousVegetation', 'Highway',\n",
    "           'Industrial', 'Pasture', 'PermanentCrop', 'Residential',\n",
    "           'River', 'SeaLake']"
   ]
  },
  {
   "cell_type": "markdown",
   "metadata": {
    "id": "gHctKUmq5Wnx"
   },
   "source": [
    "### Define The Data Transform"
   ]
  },
  {
   "cell_type": "code",
   "execution_count": null,
   "metadata": {
    "id": "AhVFsON35VwD"
   },
   "outputs": [],
   "source": [
    "transform = transforms.Compose(\n",
    "    [\n",
    "     transforms.RandomHorizontalFlip(),\n",
    "     transforms.RandomVerticalFlip(),\n",
    "     transforms.ToTensor(),\n",
    "    ]\n",
    ")"
   ]
  },
  {
   "cell_type": "markdown",
   "metadata": {
    "id": "220pXAE_5x4Y"
   },
   "source": [
    "## Download and get Dataset"
   ]
  },
  {
   "cell_type": "code",
   "execution_count": null,
   "metadata": {
    "colab": {
     "base_uri": "https://localhost:8080/",
     "height": 84,
     "referenced_widgets": [
      "879bb8e1030d4cca8101f267aeb445d0",
      "7fb2799570a14022a02234929845579a",
      "ea294bad3b214d849cc1f8dd3bdbeb2b",
      "64930e7d206c43dcb8d28c78ef02d82b",
      "be4e5db4386e4702b9da7a36e07e93ec",
      "88168d667e2e40b18a1b9a28e4385b4c",
      "0131f19d53144feb925e48605aa01777",
      "ce931603e3684962be0767251ef35620"
     ]
    },
    "id": "RqPHCrhY3Iyb",
    "outputId": "2590ba65-f306-4cc0-bb93-66337ea83f6c"
   },
   "outputs": [
    {
     "name": "stdout",
     "output_type": "stream",
     "text": [
      "Downloading http://madm.dfki.de/files/sentinel/EuroSAT.zip to data/EuroSAT.zip\n"
     ]
    },
    {
     "data": {
      "application/vnd.jupyter.widget-view+json": {
       "model_id": "879bb8e1030d4cca8101f267aeb445d0",
       "version_major": 2,
       "version_minor": 0
      },
      "text/plain": [
       "HBox(children=(FloatProgress(value=1.0, bar_style='info', max=1.0), HTML(value='')))"
      ]
     },
     "metadata": {
      "tags": []
     },
     "output_type": "display_data"
    },
    {
     "name": "stdout",
     "output_type": "stream",
     "text": [
      "Extracting data/EuroSAT.zip to data\n"
     ]
    }
   ],
   "source": [
    "dataset = EuroSat(transform=transform)"
   ]
  },
  {
   "cell_type": "markdown",
   "metadata": {
    "id": "I4r44O4o6VlI"
   },
   "source": [
    "## Train Test Split"
   ]
  },
  {
   "cell_type": "code",
   "execution_count": null,
   "metadata": {
    "id": "nBNRCyOp40jX"
   },
   "outputs": [],
   "source": [
    "train, test = random_split(dataset, 0.8)"
   ]
  },
  {
   "cell_type": "markdown",
   "metadata": {
    "id": "DhFUj6Cb6lqk"
   },
   "source": [
    "## Data Loading Parameters"
   ]
  },
  {
   "cell_type": "code",
   "execution_count": null,
   "metadata": {
    "id": "jhxKWY4C6NAs"
   },
   "outputs": [],
   "source": [
    "batch_size = 32\n",
    "shuffle = True\n",
    "num_workers = 4\n",
    "pin_memory = True"
   ]
  },
  {
   "cell_type": "code",
   "execution_count": null,
   "metadata": {
    "id": "tySBkz918BwR"
   },
   "outputs": [],
   "source": [
    "train_loader = torch.utils.data.DataLoader(train, batch_size=batch_size,\n",
    "                                           shuffle=shuffle, \n",
    "                                           num_workers=num_workers, \n",
    "                                           pin_memory=pin_memory)\n",
    "test_loader = torch.utils.data.DataLoader(test, batch_size=batch_size,\n",
    "                                           shuffle=shuffle, \n",
    "                                           num_workers=num_workers, \n",
    "                                           pin_memory=pin_memory)"
   ]
  },
  {
   "cell_type": "code",
   "execution_count": null,
   "metadata": {
    "colab": {
     "base_uri": "https://localhost:8080/"
    },
    "id": "Ci7vpOmIJhFu",
    "outputId": "e19c7324-3bc8-42d8-dca6-dd1573ca964f"
   },
   "outputs": [
    {
     "name": "stderr",
     "output_type": "stream",
     "text": [
      "Computing Normalization: 100%|██████████| 675/675 [00:20<00:00, 32.97it/s]\n"
     ]
    }
   ],
   "source": [
    "def normalize_bands(train_dl):\n",
    "    mean = torch.zeros(3)\n",
    "    m2 = torch.zeros(3)\n",
    "    n = len(train_dl)\n",
    "    for images, labels in tqdm(train_dl, \"Computing Normalization\"):\n",
    "    \n",
    "      mean += images.mean([0, 2, 3]) / n\n",
    "      m2 += (images ** 2).mean([0, 2, 3]) / n\n",
    "\n",
    "    var = m2 - mean ** 2\n",
    "    return mean, var.sqrt()\n",
    "\n",
    "mean, std = normalize_bands(train_loader)\n",
    "dataset.transform.transforms.append(transforms.Normalize(mean,std))"
   ]
  },
  {
   "cell_type": "markdown",
   "metadata": {
    "id": "vVZi-gnz9khv"
   },
   "source": [
    "# Defining Our Models"
   ]
  },
  {
   "cell_type": "code",
   "execution_count": null,
   "metadata": {
    "id": "Lm9j4zSrm7QL"
   },
   "outputs": [],
   "source": [
    "def conv_output_shape(input_shape, kernel_size, padding, stride):\n",
    "  \"\"\"Calculates the output of a convalutional layer\"\"\"\n",
    "  return ((input_shape-kernel_size + 2*padding)/stride)+1\n",
    "\n",
    "def max_pool_shape(height, width, kernel_size, padding=0, stride=-1, dilation=1):\n",
    "  \"\"\"calculates the output size of max pool  layer\"\"\"\n",
    "  if stride == -1:\n",
    "    stride = kernel_size\n",
    "  h_n = (height + 2*padding - dilation * (kernel_size -1) -1)//stride + 1\n",
    "  w_n = (width + 2*padding - dilation * (kernel_size -1) -1)//stride + 1\n",
    "  return [h_n, w_n]"
   ]
  },
  {
   "cell_type": "code",
   "execution_count": null,
   "metadata": {
    "colab": {
     "base_uri": "https://localhost:8080/"
    },
    "id": "yuLQZ3x8nWwC",
    "outputId": "ddedb15a-eccf-47f3-f50c-7d07d2e81334"
   },
   "outputs": [
    {
     "name": "stdout",
     "output_type": "stream",
     "text": [
      "[62. 62.]\n",
      "[31, 31]\n",
      "[31. 31.]\n",
      "[15, 15]\n",
      "[13. 13.]\n"
     ]
    }
   ],
   "source": [
    "print(conv_output_shape(np.array([64,64]), kernel_size=5, padding=1, stride=1))\n",
    "print(max_pool_shape(62,62, kernel_size=2, stride=2))\n",
    "print(conv_output_shape(np.array([31,31]), kernel_size=3, padding=1, stride=1))\n",
    "print(max_pool_shape(31,31, kernel_size=2, stride=2))\n",
    "print(conv_output_shape(np.array([15,15]), kernel_size=5, padding=1, stride=1))"
   ]
  },
  {
   "cell_type": "markdown",
   "metadata": {
    "id": "D8uj9hpMNQpc"
   },
   "source": [
    "## Standard CNN"
   ]
  },
  {
   "cell_type": "code",
   "execution_count": 2,
   "metadata": {
    "id": "RcUJeFewgYkx"
   },
   "outputs": [],
   "source": [
    "class Net(nn.Module):\n",
    "\n",
    "    def __init__(self):\n",
    "        super(Net, self).__init__()\n",
    "        self.name = 'cnn.pt'\n",
    "\n",
    "        self.cnn_layers = nn.Sequential(\n",
    "          nn.BatchNorm2d(3),\n",
    "          nn.Conv2d(3, 32, kernel_size=5, stride=1, padding=1), # 62 x 62\n",
    "          nn.ReLU(inplace=True),      \n",
    "          nn.MaxPool2d(kernel_size=2, stride = 2), # 31 x 31\n",
    "          nn.Dropout2d(0.1, inplace=True),\n",
    "          nn.Conv2d(32, 64, kernel_size=3, stride=1, padding=1),\n",
    "          nn.ReLU(inplace=True), # 31 x 31\n",
    "          nn.MaxPool2d(kernel_size=2, stride = 2),\n",
    "          nn.Conv2d(64, 128, kernel_size=5, padding=1, stride=1),\n",
    "          nn.Dropout2d(0.1, inplace=True),\n",
    "          nn.ReLU(inplace=True)\n",
    "      )\n",
    "\n",
    "        self.linear_layers = nn.Sequential(\n",
    "          nn.Linear(13*13*128, 256),\n",
    "          nn.ReLU(inplace=True),\n",
    "          nn.Linear(256,128),\n",
    "          nn.ReLU(inplace=True),\n",
    "          nn.Linear(128, 64),\n",
    "          nn.ReLU(inplace=True),\n",
    "          nn.Linear(64, 10),\n",
    "      )\n",
    "\n",
    "    def forward(self, x):\n",
    "        x = self.cnn_layers(x)\n",
    "        x = x.view(x.size(0), -1)\n",
    "        x = self.linear_layers(x)\n",
    "        return x"
   ]
  },
  {
   "cell_type": "markdown",
   "metadata": {
    "id": "56_SqFqeNbIL"
   },
   "source": [
    "## ResNET"
   ]
  },
  {
   "cell_type": "code",
   "execution_count": null,
   "metadata": {
    "id": "PFLMuurvbIN-"
   },
   "outputs": [],
   "source": [
    "class Block(nn.Module):\n",
    "    def __init__(\n",
    "        self, n_in, n_out, iden_downsample=None, stride=1\n",
    "    ):\n",
    "        super(Block, self).__init__()\n",
    "        self.expansion = 4\n",
    "        self.cnn_layers = nn.Sequential(\n",
    "          nn.Conv2d(n_in, n_out, kernel_size=1, stride=1, padding=0),\n",
    "          nn.BatchNorm2d(n_out),\n",
    "          nn.ReLU(inplace=True),\n",
    "          nn.Conv2d(n_out, n_out, kernel_size=3, stride=stride, padding=1),\n",
    "          nn.BatchNorm2d(n_out),\n",
    "          nn.ReLU(inplace=True),\n",
    "          nn.Conv2d(n_out, n_out * self.expansion, kernel_size=1, stride=1,\n",
    "                    padding=0),\n",
    "          nn.BatchNorm2d(n_out * self.expansion),\n",
    "        )\n",
    "        self.relu = nn.ReLU()\n",
    "        self.iden_downsample = iden_downsample\n",
    "        self.stride = stride\n",
    "\n",
    "    def forward(self, x):\n",
    "        identity = x.clone()\n",
    "        x = self.cnn_layers(x)\n",
    "        if self.iden_downsample is not None:\n",
    "            identity = self.iden_downsample(identity)\n",
    "        x += identity\n",
    "        x = self.relu(x)\n",
    "        return x\n",
    "\n",
    "class ResNet(nn.Module):\n",
    "    def __init__(self, block, layers, image_channels, num_classes):\n",
    "        super(ResNet, self).__init__()\n",
    "        self.in_channels = 64\n",
    "        self.name = 'Resnet.pt'\n",
    "\n",
    "        self.cnn_layers = nn.Sequential(\n",
    "          nn.Conv2d(image_channels, 64, kernel_size=7, stride=2, padding=3),\n",
    "          nn.BatchNorm2d(64),\n",
    "          nn.ReLU(),\n",
    "          nn.MaxPool2d(kernel_size=3, stride=2, padding=1),\n",
    "        )\n",
    "\n",
    "        self.residual_layers = nn.Sequential(\n",
    "          self.create_layer(block, layers[0], inter_chan=64, stride=1),\n",
    "          self.create_layer(block, layers[1], inter_chan=128, stride=2),\n",
    "          self.create_layer(block, layers[2], inter_chan=256, stride=2),\n",
    "          self.create_layer(block, layers[3], inter_chan=512, stride=2)\n",
    "        )\n",
    "\n",
    "        self.avgpool = nn.AdaptiveAvgPool2d((1, 1))\n",
    "        self.fc = nn.Linear(512 * 4, num_classes)\n",
    "\n",
    "    def forward(self, x):\n",
    "        x = self.cnn_layers(x)\n",
    "        x = self.residual_layers(x)\n",
    "        x = self.avgpool(x)\n",
    "        x = x.reshape(x.shape[0], -1)\n",
    "        x = self.fc(x)\n",
    "\n",
    "        return x\n",
    "\n",
    "    def create_layer(self, Block, num_residual_Blocks, inter_chan, stride):\n",
    "        iden_downsample = None\n",
    "        layers = []\n",
    "\n",
    "        if stride != 1 or self.in_channels != inter_chan * 4:\n",
    "            iden_downsample = nn.Sequential(\n",
    "                nn.Conv2d(self.in_channels, inter_chan * 4,\n",
    "                    kernel_size=1, stride=stride,\n",
    "                ),\n",
    "                nn.BatchNorm2d(inter_chan * 4),\n",
    "            )\n",
    "\n",
    "        layers.append(\n",
    "            Block(self.in_channels, inter_chan, iden_downsample, stride)\n",
    "        )\n",
    "\n",
    "        self.in_channels = inter_chan * 4\n",
    "\n",
    "        for i in range(num_residual_Blocks - 1):\n",
    "            layers.append(Block(self.in_channels, inter_chan))\n",
    "\n",
    "        return nn.Sequential(*layers)"
   ]
  },
  {
   "cell_type": "code",
   "execution_count": null,
   "metadata": {
    "id": "V5FP1R_GNhzk"
   },
   "outputs": [],
   "source": [
    "# Resnet 50\n",
    "net = ResNet(Block, [3, 4, 6, 3], 3, 10).to(device)\n",
    "# Resnet 101\n",
    "# net = ResNet(Block, [3, 4, 23, 3], 3, 10).to(device)\n",
    "# Resnet 152\n",
    "# net = ResNet(Block, [3, 8, 36, 3], 3, 10).to(device)\n",
    "# print(net)"
   ]
  },
  {
   "cell_type": "code",
   "execution_count": null,
   "metadata": {
    "id": "-LlX1kt30Q5C"
   },
   "outputs": [],
   "source": [
    "criterion = nn.CrossEntropyLoss()\n",
    "optimizer = optim.Adam(net.parameters())"
   ]
  },
  {
   "cell_type": "code",
   "execution_count": null,
   "metadata": {
    "colab": {
     "base_uri": "https://localhost:8080/"
    },
    "id": "3V-YbZR31OzT",
    "outputId": "9f679c84-a70e-4cad-9edd-b92cd8545410"
   },
   "outputs": [
    {
     "name": "stderr",
     "output_type": "stream",
     "text": [
      "Epoch: 100%|██████████| 20/20 [17:46<00:00, 53.32s/it]"
     ]
    },
    {
     "name": "stdout",
     "output_type": "stream",
     "text": [
      "finished\n",
      "CPU times: user 16min 29s, sys: 1min 19s, total: 17min 48s\n",
      "Wall time: 17min 46s\n"
     ]
    },
    {
     "name": "stderr",
     "output_type": "stream",
     "text": [
      "\n"
     ]
    }
   ],
   "source": [
    "%%time\n",
    "net.train()\n",
    "epoch_loss = []\n",
    "number_of_epochs = 20\n",
    "for epoch in trange(number_of_epochs, desc='Epoch'):\n",
    "\n",
    "  running_loss = 0.0\n",
    "  for i, data in enumerate(train_loader, 0):\n",
    "\n",
    "    inputs, labels = data[0].to(device), data[1].to(device)\n",
    "\n",
    "    optimizer.zero_grad() # zero the parameter gradients\n",
    "    outputs = net(inputs) \n",
    "    loss = criterion(outputs, labels)\n",
    "    loss.backward()\n",
    "    optimizer.step()\n",
    "    running_loss += loss.item()\n",
    "  \n",
    "  epoch_loss.append(running_loss)\n",
    "\n",
    "print('finished')"
   ]
  },
  {
   "cell_type": "code",
   "execution_count": null,
   "metadata": {
    "colab": {
     "base_uri": "https://localhost:8080/",
     "height": 514
    },
    "id": "CMFiiA3iKv3H",
    "outputId": "6644ee92-8a54-40b6-f0a0-7036b8805d10"
   },
   "outputs": [
    {
     "data": {
      "text/plain": [
       "Text(0, 0.5, 'Running loss')"
      ]
     },
     "execution_count": 19,
     "metadata": {
      "tags": []
     },
     "output_type": "execute_result"
    },
    {
     "data": {
      "image/png": "[encoded data removed]",
      "text/plain": [
       "<Figure size 1080x576 with 1 Axes>"
      ]
     },
     "metadata": {
      "needs_background": "light",
      "tags": []
     },
     "output_type": "display_data"
    }
   ],
   "source": [
    "plt.figure(figsize=(15,8))\n",
    "plt.plot(np.arange(1,number_of_epochs + 1), epoch_loss)\n",
    "plt.xlabel('epoch number')\n",
    "plt.ylabel('Running loss')"
   ]
  },
  {
   "cell_type": "markdown",
   "metadata": {
    "id": "g1US4D9J8Ki2"
   },
   "source": [
    "# Testing The Model"
   ]
  },
  {
   "cell_type": "code",
   "execution_count": null,
   "metadata": {
    "colab": {
     "base_uri": "https://localhost:8080/"
    },
    "id": "PRMlOKeM8GMX",
    "outputId": "1b6e9701-48f1-46d7-aa29-0499de003183"
   },
   "outputs": [
    {
     "name": "stdout",
     "output_type": "stream",
     "text": [
      "Accuracy of AnnualCrop : 87 %\n",
      "Accuracy of Forest : 95 %\n",
      "Accuracy of HerbaceousVegetation : 94 %\n",
      "Accuracy of Highway : 86 %\n",
      "Accuracy of Industrial : 96 %\n",
      "Accuracy of Pasture : 83 %\n",
      "Accuracy of PermanentCrop : 86 %\n",
      "Accuracy of Residential : 97 %\n",
      "Accuracy of River : 91 %\n",
      "Accuracy of SeaLake : 98 %\n"
     ]
    }
   ],
   "source": [
    "class_correct = list(0. for i in range(10))\n",
    "class_total = list(0. for i in range(10))\n",
    "net.eval()\n",
    "with torch.no_grad():\n",
    "    for data in test_loader:\n",
    "        images, labels = data[0].to(device), data[1].to(device)\n",
    "        outputs = net(images)\n",
    "        _, predicted = torch.max(outputs, 1)\n",
    "        c = (predicted == labels).squeeze()\n",
    "        for i in range(4):\n",
    "            label = labels[i]\n",
    "            class_correct[label] += c[i].item()\n",
    "            class_total[label] += 1\n",
    "\n",
    "\n",
    "for i in range(10):\n",
    "    print('Accuracy of %5s : %2d %%' % (\n",
    "        classes[i], 100 * class_correct[i] / class_total[i]))"
   ]
  }
 ],
 "metadata": {
  "accelerator": "GPU",
  "colab": {
   "collapsed_sections": [],
   "name": "EuroSatNet.ipynb",
   "provenance": []
  },
  "kernelspec": {
   "display_name": "Python 3",
   "language": "python",
   "name": "python3"
  },
  "language_info": {
   "codemirror_mode": {
    "name": "ipython",
    "version": 3
   },
   "file_extension": ".py",
   "mimetype": "text/x-python",
   "name": "python",
   "nbconvert_exporter": "python",
   "pygments_lexer": "ipython3",
   "version": "3.7.7"
  },
  "widgets": {
   "application/vnd.jupyter.widget-state+json": {
    "0131f19d53144feb925e48605aa01777": {
     "model_module": "@jupyter-widgets/controls",
     "model_name": "DescriptionStyleModel",
     "state": {
      "_model_module": "@jupyter-widgets/controls",
      "_model_module_version": "1.5.0",
      "_model_name": "DescriptionStyleModel",
      "_view_count": null,
      "_view_module": "@jupyter-widgets/base",
      "_view_module_version": "1.2.0",
      "_view_name": "StyleView",
      "description_width": ""
     }
    },
    "64930e7d206c43dcb8d28c78ef02d82b": {
     "model_module": "@jupyter-widgets/controls",
     "model_name": "HTMLModel",
     "state": {
      "_dom_classes": [],
      "_model_module": "@jupyter-widgets/controls",
      "_model_module_version": "1.5.0",
      "_model_name": "HTMLModel",
      "_view_count": null,
      "_view_module": "@jupyter-widgets/controls",
      "_view_module_version": "1.5.0",
      "_view_name": "HTMLView",
      "description": "",
      "description_tooltip": null,
      "layout": "IPY_MODEL_ce931603e3684962be0767251ef35620",
      "placeholder": "​",
      "style": "IPY_MODEL_0131f19d53144feb925e48605aa01777",
      "value": " 94281728/? [00:30&lt;00:00, 22069674.03it/s]"
     }
    },
    "7fb2799570a14022a02234929845579a": {
     "model_module": "@jupyter-widgets/base",
     "model_name": "LayoutModel",
     "state": {
      "_model_module": "@jupyter-widgets/base",
      "_model_module_version": "1.2.0",
      "_model_name": "LayoutModel",
      "_view_count": null,
      "_view_module": "@jupyter-widgets/base",
      "_view_module_version": "1.2.0",
      "_view_name": "LayoutView",
      "align_content": null,
      "align_items": null,
      "align_self": null,
      "border": null,
      "bottom": null,
      "display": null,
      "flex": null,
      "flex_flow": null,
      "grid_area": null,
      "grid_auto_columns": null,
      "grid_auto_flow": null,
      "grid_auto_rows": null,
      "grid_column": null,
      "grid_gap": null,
      "grid_row": null,
      "grid_template_areas": null,
      "grid_template_columns": null,
      "grid_template_rows": null,
      "height": null,
      "justify_content": null,
      "justify_items": null,
      "left": null,
      "margin": null,
      "max_height": null,
      "max_width": null,
      "min_height": null,
      "min_width": null,
      "object_fit": null,
      "object_position": null,
      "order": null,
      "overflow": null,
      "overflow_x": null,
      "overflow_y": null,
      "padding": null,
      "right": null,
      "top": null,
      "visibility": null,
      "width": null
     }
    },
    "879bb8e1030d4cca8101f267aeb445d0": {
     "model_module": "@jupyter-widgets/controls",
     "model_name": "HBoxModel",
     "state": {
      "_dom_classes": [],
      "_model_module": "@jupyter-widgets/controls",
      "_model_module_version": "1.5.0",
      "_model_name": "HBoxModel",
      "_view_count": null,
      "_view_module": "@jupyter-widgets/controls",
      "_view_module_version": "1.5.0",
      "_view_name": "HBoxView",
      "box_style": "",
      "children": [
       "IPY_MODEL_ea294bad3b214d849cc1f8dd3bdbeb2b",
       "IPY_MODEL_64930e7d206c43dcb8d28c78ef02d82b"
      ],
      "layout": "IPY_MODEL_7fb2799570a14022a02234929845579a"
     }
    },
    "88168d667e2e40b18a1b9a28e4385b4c": {
     "model_module": "@jupyter-widgets/base",
     "model_name": "LayoutModel",
     "state": {
      "_model_module": "@jupyter-widgets/base",
      "_model_module_version": "1.2.0",
      "_model_name": "LayoutModel",
      "_view_count": null,
      "_view_module": "@jupyter-widgets/base",
      "_view_module_version": "1.2.0",
      "_view_name": "LayoutView",
      "align_content": null,
      "align_items": null,
      "align_self": null,
      "border": null,
      "bottom": null,
      "display": null,
      "flex": null,
      "flex_flow": null,
      "grid_area": null,
      "grid_auto_columns": null,
      "grid_auto_flow": null,
      "grid_auto_rows": null,
      "grid_column": null,
      "grid_gap": null,
      "grid_row": null,
      "grid_template_areas": null,
      "grid_template_columns": null,
      "grid_template_rows": null,
      "height": null,
      "justify_content": null,
      "justify_items": null,
      "left": null,
      "margin": null,
      "max_height": null,
      "max_width": null,
      "min_height": null,
      "min_width": null,
      "object_fit": null,
      "object_position": null,
      "order": null,
      "overflow": null,
      "overflow_x": null,
      "overflow_y": null,
      "padding": null,
      "right": null,
      "top": null,
      "visibility": null,
      "width": null
     }
    },
    "be4e5db4386e4702b9da7a36e07e93ec": {
     "model_module": "@jupyter-widgets/controls",
     "model_name": "ProgressStyleModel",
     "state": {
      "_model_module": "@jupyter-widgets/controls",
      "_model_module_version": "1.5.0",
      "_model_name": "ProgressStyleModel",
      "_view_count": null,
      "_view_module": "@jupyter-widgets/base",
      "_view_module_version": "1.2.0",
      "_view_name": "StyleView",
      "bar_color": null,
      "description_width": "initial"
     }
    },
    "ce931603e3684962be0767251ef35620": {
     "model_module": "@jupyter-widgets/base",
     "model_name": "LayoutModel",
     "state": {
      "_model_module": "@jupyter-widgets/base",
      "_model_module_version": "1.2.0",
      "_model_name": "LayoutModel",
      "_view_count": null,
      "_view_module": "@jupyter-widgets/base",
      "_view_module_version": "1.2.0",
      "_view_name": "LayoutView",
      "align_content": null,
      "align_items": null,
      "align_self": null,
      "border": null,
      "bottom": null,
      "display": null,
      "flex": null,
      "flex_flow": null,
      "grid_area": null,
      "grid_auto_columns": null,
      "grid_auto_flow": null,
      "grid_auto_rows": null,
      "grid_column": null,
      "grid_gap": null,
      "grid_row": null,
      "grid_template_areas": null,
      "grid_template_columns": null,
      "grid_template_rows": null,
      "height": null,
      "justify_content": null,
      "justify_items": null,
      "left": null,
      "margin": null,
      "max_height": null,
      "max_width": null,
      "min_height": null,
      "min_width": null,
      "object_fit": null,
      "object_position": null,
      "order": null,
      "overflow": null,
      "overflow_x": null,
      "overflow_y": null,
      "padding": null,
      "right": null,
      "top": null,
      "visibility": null,
      "width": null
     }
    },
    "ea294bad3b214d849cc1f8dd3bdbeb2b": {
     "model_module": "@jupyter-widgets/controls",
     "model_name": "FloatProgressModel",
     "state": {
      "_dom_classes": [],
      "_model_module": "@jupyter-widgets/controls",
      "_model_module_version": "1.5.0",
      "_model_name": "FloatProgressModel",
      "_view_count": null,
      "_view_module": "@jupyter-widgets/controls",
      "_view_module_version": "1.5.0",
      "_view_name": "ProgressView",
      "bar_style": "info",
      "description": "",
      "description_tooltip": null,
      "layout": "IPY_MODEL_88168d667e2e40b18a1b9a28e4385b4c",
      "max": 1,
      "min": 0,
      "orientation": "horizontal",
      "style": "IPY_MODEL_be4e5db4386e4702b9da7a36e07e93ec",
      "value": 1
     }
    }
   }
  }
 },
 "nbformat": 4,
 "nbformat_minor": 1
}
