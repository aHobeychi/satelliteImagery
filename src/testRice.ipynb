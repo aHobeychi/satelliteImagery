{
 "cells": [
  {
   "cell_type": "code",
   "execution_count": 20,
   "metadata": {},
   "outputs": [],
   "source": [
    "from apiSession import apiSession\n",
    "from kmlHandler import kmlHandler\n",
    "\n",
    "projectName = 'rice lake2'\n",
    "api = apiSession(projectName)"
   ]
  },
  {
   "cell_type": "code",
   "execution_count": 21,
   "metadata": {},
   "outputs": [],
   "source": [
    "riceFilePath = '../kmlFiles/rice/rice lake.kml'"
   ]
  },
  {
   "cell_type": "code",
   "execution_count": 66,
   "metadata": {},
   "outputs": [],
   "source": [
    "import geopandas as gpd"
   ]
  },
  {
   "cell_type": "code",
   "execution_count": 68,
   "metadata": {},
   "outputs": [],
   "source": [
    "t = gpd.read_file(riceFilePath)"
   ]
  },
  {
   "cell_type": "code",
   "execution_count": 69,
   "metadata": {},
   "outputs": [
    {
     "output_type": "execute_result",
     "data": {
      "text/plain": "        Name Description                                           geometry\n0  rice lake              POLYGON Z ((-78.27038 44.18970 0.00000, -78.27...",
      "text/html": "<div>\n<style scoped>\n    .dataframe tbody tr th:only-of-type {\n        vertical-align: middle;\n    }\n\n    .dataframe tbody tr th {\n        vertical-align: top;\n    }\n\n    .dataframe thead th {\n        text-align: right;\n    }\n</style>\n<table border=\"1\" class=\"dataframe\">\n  <thead>\n    <tr style=\"text-align: right;\">\n      <th></th>\n      <th>Name</th>\n      <th>Description</th>\n      <th>geometry</th>\n    </tr>\n  </thead>\n  <tbody>\n    <tr>\n      <th>0</th>\n      <td>rice lake</td>\n      <td></td>\n      <td>POLYGON Z ((-78.27038 44.18970 0.00000, -78.27...</td>\n    </tr>\n  </tbody>\n</table>\n</div>"
     },
     "metadata": {},
     "execution_count": 69
    }
   ],
   "source": [
    "t"
   ]
  },
  {
   "cell_type": "code",
   "execution_count": 22,
   "metadata": {},
   "outputs": [],
   "source": [
    "kml = kmlHandler(riceFilePath)"
   ]
  },
  {
   "cell_type": "code",
   "execution_count": 23,
   "metadata": {},
   "outputs": [],
   "source": [
    "footprint = kml.getFootPrint()"
   ]
  },
  {
   "cell_type": "code",
   "execution_count": 24,
   "metadata": {
    "tags": []
   },
   "outputs": [
    {
     "output_type": "stream",
     "name": "stdout",
     "text": "POLYGON ((-78.27037673054654 44.1896981276189, -78.2708496590526 44.14957176465543, -78.10005533199619 44.14974883120674, -78.09964628193356 44.18969830598515, -78.27037673054654 44.1896981276189))\n"
    }
   ],
   "source": [
    "print(footprint)"
   ]
  },
  {
   "cell_type": "code",
   "execution_count": 25,
   "metadata": {
    "tags": []
   },
   "outputs": [
    {
     "output_type": "stream",
     "name": "stderr",
     "text": "Querying products: 100%|██████████| 456/456 [00:02<00:00, 192.21 products/s]\n"
    }
   ],
   "source": [
    "product = api.query(footprint)"
   ]
  },
  {
   "cell_type": "code",
   "execution_count": 26,
   "metadata": {},
   "outputs": [],
   "source": [
    "gdf = api.toGeoDf(product)"
   ]
  },
  {
   "cell_type": "code",
   "execution_count": 27,
   "metadata": {},
   "outputs": [
    {
     "output_type": "execute_result",
     "data": {
      "text/plain": "                                                                                  title  \\\nfac6e6ee-4f6b-43b0-8088-93a1feb28bc1  S2B_MSIL2A_20200707T155819_N0214_R097_T17TQK_2...   \nc97cb044-7a7f-49f3-93d8-ca1eef89bd95  S2B_MSIL2A_20200707T155819_N0214_R097_T17TQJ_2...   \n57a5aecc-f632-45a2-bed7-fab046a7a5cd  S2A_MSIL2A_20200705T160911_N0214_R140_T17TQK_2...   \nd07ac3ac-5510-499f-83d4-8a7ac9e04c0b  S2A_MSIL2A_20200705T160911_N0214_R140_T17TQJ_2...   \n4656e954-66c2-441a-b2a1-e5ebe8527995  S2A_MSIL2A_20200702T155911_N0214_R097_T17TQK_2...   \n...                                                                                 ...   \n8e69be14-2451-4da1-8758-434103115f0d  S2B_MSIL2A_20181218T161659_N0211_R140_T17TQK_2...   \n6c07a777-0ee6-4c18-a1c6-9c61172753a6  S2B_MSIL2A_20181215T160649_N0211_R097_T17TQK_2...   \neb60b9b4-64ce-4982-9414-f8b1abeba276  S2B_MSIL2A_20181215T160649_N0211_R097_T17TQJ_2...   \n48a2d624-98d7-43d8-96f9-703dac02b60b  S2A_MSIL2A_20181213T161651_N0211_R140_T17TQK_2...   \n673b97a9-d29e-4124-accf-f4ec7aea37f3  S2A_MSIL2A_20181213T161651_N0211_R140_T17TQJ_2...   \n\n                                                                                   link  \\\nfac6e6ee-4f6b-43b0-8088-93a1feb28bc1  https://scihub.copernicus.eu/dhus/odata/v1/Pro...   \nc97cb044-7a7f-49f3-93d8-ca1eef89bd95  https://scihub.copernicus.eu/dhus/odata/v1/Pro...   \n57a5aecc-f632-45a2-bed7-fab046a7a5cd  https://scihub.copernicus.eu/dhus/odata/v1/Pro...   \nd07ac3ac-5510-499f-83d4-8a7ac9e04c0b  https://scihub.copernicus.eu/dhus/odata/v1/Pro...   \n4656e954-66c2-441a-b2a1-e5ebe8527995  https://scihub.copernicus.eu/dhus/odata/v1/Pro...   \n...                                                                                 ...   \n8e69be14-2451-4da1-8758-434103115f0d  https://scihub.copernicus.eu/dhus/odata/v1/Pro...   \n6c07a777-0ee6-4c18-a1c6-9c61172753a6  https://scihub.copernicus.eu/dhus/odata/v1/Pro...   \neb60b9b4-64ce-4982-9414-f8b1abeba276  https://scihub.copernicus.eu/dhus/odata/v1/Pro...   \n48a2d624-98d7-43d8-96f9-703dac02b60b  https://scihub.copernicus.eu/dhus/odata/v1/Pro...   \n673b97a9-d29e-4124-accf-f4ec7aea37f3  https://scihub.copernicus.eu/dhus/odata/v1/Pro...   \n\n                                                                       link_alternative  \\\nfac6e6ee-4f6b-43b0-8088-93a1feb28bc1  https://scihub.copernicus.eu/dhus/odata/v1/Pro...   \nc97cb044-7a7f-49f3-93d8-ca1eef89bd95  https://scihub.copernicus.eu/dhus/odata/v1/Pro...   \n57a5aecc-f632-45a2-bed7-fab046a7a5cd  https://scihub.copernicus.eu/dhus/odata/v1/Pro...   \nd07ac3ac-5510-499f-83d4-8a7ac9e04c0b  https://scihub.copernicus.eu/dhus/odata/v1/Pro...   \n4656e954-66c2-441a-b2a1-e5ebe8527995  https://scihub.copernicus.eu/dhus/odata/v1/Pro...   \n...                                                                                 ...   \n8e69be14-2451-4da1-8758-434103115f0d  https://scihub.copernicus.eu/dhus/odata/v1/Pro...   \n6c07a777-0ee6-4c18-a1c6-9c61172753a6  https://scihub.copernicus.eu/dhus/odata/v1/Pro...   \neb60b9b4-64ce-4982-9414-f8b1abeba276  https://scihub.copernicus.eu/dhus/odata/v1/Pro...   \n48a2d624-98d7-43d8-96f9-703dac02b60b  https://scihub.copernicus.eu/dhus/odata/v1/Pro...   \n673b97a9-d29e-4124-accf-f4ec7aea37f3  https://scihub.copernicus.eu/dhus/odata/v1/Pro...   \n\n                                                                              link_icon  \\\nfac6e6ee-4f6b-43b0-8088-93a1feb28bc1  https://scihub.copernicus.eu/dhus/odata/v1/Pro...   \nc97cb044-7a7f-49f3-93d8-ca1eef89bd95  https://scihub.copernicus.eu/dhus/odata/v1/Pro...   \n57a5aecc-f632-45a2-bed7-fab046a7a5cd  https://scihub.copernicus.eu/dhus/odata/v1/Pro...   \nd07ac3ac-5510-499f-83d4-8a7ac9e04c0b  https://scihub.copernicus.eu/dhus/odata/v1/Pro...   \n4656e954-66c2-441a-b2a1-e5ebe8527995  https://scihub.copernicus.eu/dhus/odata/v1/Pro...   \n...                                                                                 ...   \n8e69be14-2451-4da1-8758-434103115f0d  https://scihub.copernicus.eu/dhus/odata/v1/Pro...   \n6c07a777-0ee6-4c18-a1c6-9c61172753a6  https://scihub.copernicus.eu/dhus/odata/v1/Pro...   \neb60b9b4-64ce-4982-9414-f8b1abeba276  https://scihub.copernicus.eu/dhus/odata/v1/Pro...   \n48a2d624-98d7-43d8-96f9-703dac02b60b  https://scihub.copernicus.eu/dhus/odata/v1/Pro...   \n673b97a9-d29e-4124-accf-f4ec7aea37f3  https://scihub.copernicus.eu/dhus/odata/v1/Pro...   \n\n                                                                                summary  \\\nfac6e6ee-4f6b-43b0-8088-93a1feb28bc1  Date: 2020-07-07T15:58:19.024Z, Instrument: MS...   \nc97cb044-7a7f-49f3-93d8-ca1eef89bd95  Date: 2020-07-07T15:58:19.024Z, Instrument: MS...   \n57a5aecc-f632-45a2-bed7-fab046a7a5cd  Date: 2020-07-05T16:09:11.024Z, Instrument: MS...   \nd07ac3ac-5510-499f-83d4-8a7ac9e04c0b  Date: 2020-07-05T16:09:11.024Z, Instrument: MS...   \n4656e954-66c2-441a-b2a1-e5ebe8527995  Date: 2020-07-02T15:59:11.024Z, Instrument: MS...   \n...                                                                                 ...   \n8e69be14-2451-4da1-8758-434103115f0d  Date: 2018-12-18T16:16:59.024Z, Instrument: MS...   \n6c07a777-0ee6-4c18-a1c6-9c61172753a6  Date: 2018-12-15T16:06:49.024Z, Instrument: MS...   \neb60b9b4-64ce-4982-9414-f8b1abeba276  Date: 2018-12-15T16:06:49.024Z, Instrument: MS...   \n48a2d624-98d7-43d8-96f9-703dac02b60b  Date: 2018-12-13T16:16:51.024Z, Instrument: MS...   \n673b97a9-d29e-4124-accf-f4ec7aea37f3  Date: 2018-12-13T16:16:51.024Z, Instrument: MS...   \n\n                                               beginposition  \\\nfac6e6ee-4f6b-43b0-8088-93a1feb28bc1 2020-07-07 15:58:19.024   \nc97cb044-7a7f-49f3-93d8-ca1eef89bd95 2020-07-07 15:58:19.024   \n57a5aecc-f632-45a2-bed7-fab046a7a5cd 2020-07-05 16:09:11.024   \nd07ac3ac-5510-499f-83d4-8a7ac9e04c0b 2020-07-05 16:09:11.024   \n4656e954-66c2-441a-b2a1-e5ebe8527995 2020-07-02 15:59:11.024   \n...                                                      ...   \n8e69be14-2451-4da1-8758-434103115f0d 2018-12-18 16:16:59.024   \n6c07a777-0ee6-4c18-a1c6-9c61172753a6 2018-12-15 16:06:49.024   \neb60b9b4-64ce-4982-9414-f8b1abeba276 2018-12-15 16:06:49.024   \n48a2d624-98d7-43d8-96f9-703dac02b60b 2018-12-13 16:16:51.024   \n673b97a9-d29e-4124-accf-f4ec7aea37f3 2018-12-13 16:16:51.024   \n\n                                                 endposition  \\\nfac6e6ee-4f6b-43b0-8088-93a1feb28bc1 2020-07-07 15:58:19.024   \nc97cb044-7a7f-49f3-93d8-ca1eef89bd95 2020-07-07 15:58:19.024   \n57a5aecc-f632-45a2-bed7-fab046a7a5cd 2020-07-05 16:09:11.024   \nd07ac3ac-5510-499f-83d4-8a7ac9e04c0b 2020-07-05 16:09:11.024   \n4656e954-66c2-441a-b2a1-e5ebe8527995 2020-07-02 15:59:11.024   \n...                                                      ...   \n8e69be14-2451-4da1-8758-434103115f0d 2018-12-18 16:16:59.024   \n6c07a777-0ee6-4c18-a1c6-9c61172753a6 2018-12-15 16:06:49.024   \neb60b9b4-64ce-4982-9414-f8b1abeba276 2018-12-15 16:06:49.024   \n48a2d624-98d7-43d8-96f9-703dac02b60b 2018-12-13 16:16:51.024   \n673b97a9-d29e-4124-accf-f4ec7aea37f3 2018-12-13 16:16:51.024   \n\n                                               ingestiondate  orbitnumber  \\\nfac6e6ee-4f6b-43b0-8088-93a1feb28bc1 2020-07-07 23:14:25.822        17426   \nc97cb044-7a7f-49f3-93d8-ca1eef89bd95 2020-07-07 23:14:04.806        17426   \n57a5aecc-f632-45a2-bed7-fab046a7a5cd 2020-07-06 03:23:39.381        26306   \nd07ac3ac-5510-499f-83d4-8a7ac9e04c0b 2020-07-06 03:22:44.577        26306   \n4656e954-66c2-441a-b2a1-e5ebe8527995 2020-07-03 02:31:25.327        26263   \n...                                                      ...          ...   \n8e69be14-2451-4da1-8758-434103115f0d 2018-12-19 04:17:36.390         9318   \n6c07a777-0ee6-4c18-a1c6-9c61172753a6 2018-12-16 02:09:12.649         9275   \neb60b9b4-64ce-4982-9414-f8b1abeba276 2018-12-16 02:06:21.886         9275   \n48a2d624-98d7-43d8-96f9-703dac02b60b 2018-12-13 21:13:51.349        18155   \n673b97a9-d29e-4124-accf-f4ec7aea37f3 2018-12-13 21:13:28.450        18155   \n\n                                      relativeorbitnumber  ...        size  \\\nfac6e6ee-4f6b-43b0-8088-93a1feb28bc1                   97  ...     1.09 GB   \nc97cb044-7a7f-49f3-93d8-ca1eef89bd95                   97  ...   873.39 MB   \n57a5aecc-f632-45a2-bed7-fab046a7a5cd                  140  ...   797.65 MB   \nd07ac3ac-5510-499f-83d4-8a7ac9e04c0b                  140  ...   612.45 MB   \n4656e954-66c2-441a-b2a1-e5ebe8527995                   97  ...     1.08 GB   \n...                                                   ...  ...         ...   \n8e69be14-2451-4da1-8758-434103115f0d                  140  ...     1.03 GB   \n6c07a777-0ee6-4c18-a1c6-9c61172753a6                   97  ...  1010.82 MB   \neb60b9b4-64ce-4982-9414-f8b1abeba276                   97  ...   807.51 MB   \n48a2d624-98d7-43d8-96f9-703dac02b60b                  140  ...   743.33 MB   \n673b97a9-d29e-4124-accf-f4ec7aea37f3                  140  ...   588.15 MB   \n\n                                                            s2datatakeid  \\\nfac6e6ee-4f6b-43b0-8088-93a1feb28bc1  GS2B_20200707T155819_017426_N02.14   \nc97cb044-7a7f-49f3-93d8-ca1eef89bd95  GS2B_20200707T155819_017426_N02.14   \n57a5aecc-f632-45a2-bed7-fab046a7a5cd  GS2A_20200705T160911_026306_N02.14   \nd07ac3ac-5510-499f-83d4-8a7ac9e04c0b  GS2A_20200705T160911_026306_N02.14   \n4656e954-66c2-441a-b2a1-e5ebe8527995  GS2A_20200702T155911_026263_N02.14   \n...                                                                  ...   \n8e69be14-2451-4da1-8758-434103115f0d  GS2B_20181218T161659_009318_N02.11   \n6c07a777-0ee6-4c18-a1c6-9c61172753a6  GS2B_20181215T160649_009275_N02.11   \neb60b9b4-64ce-4982-9414-f8b1abeba276  GS2B_20181215T160649_009275_N02.11   \n48a2d624-98d7-43d8-96f9-703dac02b60b  GS2A_20181213T161651_018155_N02.11   \n673b97a9-d29e-4124-accf-f4ec7aea37f3  GS2A_20181213T161651_018155_N02.11   \n\n                                      producttype  platformidentifier  \\\nfac6e6ee-4f6b-43b0-8088-93a1feb28bc1      S2MSI2A           2017-013A   \nc97cb044-7a7f-49f3-93d8-ca1eef89bd95      S2MSI2A           2017-013A   \n57a5aecc-f632-45a2-bed7-fab046a7a5cd      S2MSI2A           2015-028A   \nd07ac3ac-5510-499f-83d4-8a7ac9e04c0b      S2MSI2A           2015-028A   \n4656e954-66c2-441a-b2a1-e5ebe8527995      S2MSI2A           2015-028A   \n...                                           ...                 ...   \n8e69be14-2451-4da1-8758-434103115f0d      S2MSI2A           2017-013A   \n6c07a777-0ee6-4c18-a1c6-9c61172753a6      S2MSI2A           2017-013A   \neb60b9b4-64ce-4982-9414-f8b1abeba276      S2MSI2A           2017-013A   \n48a2d624-98d7-43d8-96f9-703dac02b60b      S2MSI2A           2015-028A   \n673b97a9-d29e-4124-accf-f4ec7aea37f3      S2MSI2A           2015-028A   \n\n                                      orbitdirection  \\\nfac6e6ee-4f6b-43b0-8088-93a1feb28bc1      DESCENDING   \nc97cb044-7a7f-49f3-93d8-ca1eef89bd95      DESCENDING   \n57a5aecc-f632-45a2-bed7-fab046a7a5cd      DESCENDING   \nd07ac3ac-5510-499f-83d4-8a7ac9e04c0b      DESCENDING   \n4656e954-66c2-441a-b2a1-e5ebe8527995      DESCENDING   \n...                                              ...   \n8e69be14-2451-4da1-8758-434103115f0d      DESCENDING   \n6c07a777-0ee6-4c18-a1c6-9c61172753a6      DESCENDING   \neb60b9b4-64ce-4982-9414-f8b1abeba276      DESCENDING   \n48a2d624-98d7-43d8-96f9-703dac02b60b      DESCENDING   \n673b97a9-d29e-4124-accf-f4ec7aea37f3      DESCENDING   \n\n                                      platformserialidentifier  \\\nfac6e6ee-4f6b-43b0-8088-93a1feb28bc1               Sentinel-2B   \nc97cb044-7a7f-49f3-93d8-ca1eef89bd95               Sentinel-2B   \n57a5aecc-f632-45a2-bed7-fab046a7a5cd               Sentinel-2A   \nd07ac3ac-5510-499f-83d4-8a7ac9e04c0b               Sentinel-2A   \n4656e954-66c2-441a-b2a1-e5ebe8527995               Sentinel-2A   \n...                                                        ...   \n8e69be14-2451-4da1-8758-434103115f0d               Sentinel-2B   \n6c07a777-0ee6-4c18-a1c6-9c61172753a6               Sentinel-2B   \neb60b9b4-64ce-4982-9414-f8b1abeba276               Sentinel-2B   \n48a2d624-98d7-43d8-96f9-703dac02b60b               Sentinel-2A   \n673b97a9-d29e-4124-accf-f4ec7aea37f3               Sentinel-2A   \n\n                                      processinglevel  \\\nfac6e6ee-4f6b-43b0-8088-93a1feb28bc1         Level-2A   \nc97cb044-7a7f-49f3-93d8-ca1eef89bd95         Level-2A   \n57a5aecc-f632-45a2-bed7-fab046a7a5cd         Level-2A   \nd07ac3ac-5510-499f-83d4-8a7ac9e04c0b         Level-2A   \n4656e954-66c2-441a-b2a1-e5ebe8527995         Level-2A   \n...                                               ...   \n8e69be14-2451-4da1-8758-434103115f0d         Level-2A   \n6c07a777-0ee6-4c18-a1c6-9c61172753a6         Level-2A   \neb60b9b4-64ce-4982-9414-f8b1abeba276         Level-2A   \n48a2d624-98d7-43d8-96f9-703dac02b60b         Level-2A   \n673b97a9-d29e-4124-accf-f4ec7aea37f3         Level-2A   \n\n                                                                             identifier  \\\nfac6e6ee-4f6b-43b0-8088-93a1feb28bc1  S2B_MSIL2A_20200707T155819_N0214_R097_T17TQK_2...   \nc97cb044-7a7f-49f3-93d8-ca1eef89bd95  S2B_MSIL2A_20200707T155819_N0214_R097_T17TQJ_2...   \n57a5aecc-f632-45a2-bed7-fab046a7a5cd  S2A_MSIL2A_20200705T160911_N0214_R140_T17TQK_2...   \nd07ac3ac-5510-499f-83d4-8a7ac9e04c0b  S2A_MSIL2A_20200705T160911_N0214_R140_T17TQJ_2...   \n4656e954-66c2-441a-b2a1-e5ebe8527995  S2A_MSIL2A_20200702T155911_N0214_R097_T17TQK_2...   \n...                                                                                 ...   \n8e69be14-2451-4da1-8758-434103115f0d  S2B_MSIL2A_20181218T161659_N0211_R140_T17TQK_2...   \n6c07a777-0ee6-4c18-a1c6-9c61172753a6  S2B_MSIL2A_20181215T160649_N0211_R097_T17TQK_2...   \neb60b9b4-64ce-4982-9414-f8b1abeba276  S2B_MSIL2A_20181215T160649_N0211_R097_T17TQJ_2...   \n48a2d624-98d7-43d8-96f9-703dac02b60b  S2A_MSIL2A_20181213T161651_N0211_R140_T17TQK_2...   \n673b97a9-d29e-4124-accf-f4ec7aea37f3  S2A_MSIL2A_20181213T161651_N0211_R140_T17TQJ_2...   \n\n                                                                      uuid  \\\nfac6e6ee-4f6b-43b0-8088-93a1feb28bc1  fac6e6ee-4f6b-43b0-8088-93a1feb28bc1   \nc97cb044-7a7f-49f3-93d8-ca1eef89bd95  c97cb044-7a7f-49f3-93d8-ca1eef89bd95   \n57a5aecc-f632-45a2-bed7-fab046a7a5cd  57a5aecc-f632-45a2-bed7-fab046a7a5cd   \nd07ac3ac-5510-499f-83d4-8a7ac9e04c0b  d07ac3ac-5510-499f-83d4-8a7ac9e04c0b   \n4656e954-66c2-441a-b2a1-e5ebe8527995  4656e954-66c2-441a-b2a1-e5ebe8527995   \n...                                                                    ...   \n8e69be14-2451-4da1-8758-434103115f0d  8e69be14-2451-4da1-8758-434103115f0d   \n6c07a777-0ee6-4c18-a1c6-9c61172753a6  6c07a777-0ee6-4c18-a1c6-9c61172753a6   \neb60b9b4-64ce-4982-9414-f8b1abeba276  eb60b9b4-64ce-4982-9414-f8b1abeba276   \n48a2d624-98d7-43d8-96f9-703dac02b60b  48a2d624-98d7-43d8-96f9-703dac02b60b   \n673b97a9-d29e-4124-accf-f4ec7aea37f3  673b97a9-d29e-4124-accf-f4ec7aea37f3   \n\n                                                                               geometry  \nfac6e6ee-4f6b-43b0-8088-93a1feb28bc1  MULTIPOLYGON (((-77.13000 44.09977, -77.06390 ...  \nc97cb044-7a7f-49f3-93d8-ca1eef89bd95  MULTIPOLYGON (((-77.18738 43.20121, -77.12427 ...  \n57a5aecc-f632-45a2-bed7-fab046a7a5cd  MULTIPOLYGON (((-77.49814 44.11004, -77.47949 ...  \nd07ac3ac-5510-499f-83d4-8a7ac9e04c0b  MULTIPOLYGON (((-77.84946 43.21939, -77.82516 ...  \n4656e954-66c2-441a-b2a1-e5ebe8527995  MULTIPOLYGON (((-77.13000 44.09977, -77.06390 ...  \n...                                                                                 ...  \n8e69be14-2451-4da1-8758-434103115f0d  POLYGON ((-77.09650 45.08688, -77.12940 45.006...  \n6c07a777-0ee6-4c18-a1c6-9c61172753a6  POLYGON ((-78.45920 45.08299, -78.44492 45.125...  \neb60b9b4-64ce-4982-9414-f8b1abeba276  POLYGON ((-78.49643 44.22598, -77.12427 44.187...  \n48a2d624-98d7-43d8-96f9-703dac02b60b  POLYGON ((-77.10660 45.08717, -77.14401 44.996...  \n673b97a9-d29e-4124-accf-f4ec7aea37f3  POLYGON ((-77.46587 44.19717, -77.49540 44.123...  \n\n[456 rows x 35 columns]",
      "text/html": "<div>\n<style scoped>\n    .dataframe tbody tr th:only-of-type {\n        vertical-align: middle;\n    }\n\n    .dataframe tbody tr th {\n        vertical-align: top;\n    }\n\n    .dataframe thead th {\n        text-align: right;\n    }\n</style>\n<table border=\"1\" class=\"dataframe\">\n  <thead>\n    <tr style=\"text-align: right;\">\n      <th></th>\n      <th>title</th>\n      <th>link</th>\n      <th>link_alternative</th>\n      <th>link_icon</th>\n      <th>summary</th>\n      <th>beginposition</th>\n      <th>endposition</th>\n      <th>ingestiondate</th>\n      <th>orbitnumber</th>\n      <th>relativeorbitnumber</th>\n      <th>...</th>\n      <th>size</th>\n      <th>s2datatakeid</th>\n      <th>producttype</th>\n      <th>platformidentifier</th>\n      <th>orbitdirection</th>\n      <th>platformserialidentifier</th>\n      <th>processinglevel</th>\n      <th>identifier</th>\n      <th>uuid</th>\n      <th>geometry</th>\n    </tr>\n  </thead>\n  <tbody>\n    <tr>\n      <th>fac6e6ee-4f6b-43b0-8088-93a1feb28bc1</th>\n      <td>S2B_MSIL2A_20200707T155819_N0214_R097_T17TQK_2...</td>\n      <td>https://scihub.copernicus.eu/dhus/odata/v1/Pro...</td>\n      <td>https://scihub.copernicus.eu/dhus/odata/v1/Pro...</td>\n      <td>https://scihub.copernicus.eu/dhus/odata/v1/Pro...</td>\n      <td>Date: 2020-07-07T15:58:19.024Z, Instrument: MS...</td>\n      <td>2020-07-07 15:58:19.024</td>\n      <td>2020-07-07 15:58:19.024</td>\n      <td>2020-07-07 23:14:25.822</td>\n      <td>17426</td>\n      <td>97</td>\n      <td>...</td>\n      <td>1.09 GB</td>\n      <td>GS2B_20200707T155819_017426_N02.14</td>\n      <td>S2MSI2A</td>\n      <td>2017-013A</td>\n      <td>DESCENDING</td>\n      <td>Sentinel-2B</td>\n      <td>Level-2A</td>\n      <td>S2B_MSIL2A_20200707T155819_N0214_R097_T17TQK_2...</td>\n      <td>fac6e6ee-4f6b-43b0-8088-93a1feb28bc1</td>\n      <td>MULTIPOLYGON (((-77.13000 44.09977, -77.06390 ...</td>\n    </tr>\n    <tr>\n      <th>c97cb044-7a7f-49f3-93d8-ca1eef89bd95</th>\n      <td>S2B_MSIL2A_20200707T155819_N0214_R097_T17TQJ_2...</td>\n      <td>https://scihub.copernicus.eu/dhus/odata/v1/Pro...</td>\n      <td>https://scihub.copernicus.eu/dhus/odata/v1/Pro...</td>\n      <td>https://scihub.copernicus.eu/dhus/odata/v1/Pro...</td>\n      <td>Date: 2020-07-07T15:58:19.024Z, Instrument: MS...</td>\n      <td>2020-07-07 15:58:19.024</td>\n      <td>2020-07-07 15:58:19.024</td>\n      <td>2020-07-07 23:14:04.806</td>\n      <td>17426</td>\n      <td>97</td>\n      <td>...</td>\n      <td>873.39 MB</td>\n      <td>GS2B_20200707T155819_017426_N02.14</td>\n      <td>S2MSI2A</td>\n      <td>2017-013A</td>\n      <td>DESCENDING</td>\n      <td>Sentinel-2B</td>\n      <td>Level-2A</td>\n      <td>S2B_MSIL2A_20200707T155819_N0214_R097_T17TQJ_2...</td>\n      <td>c97cb044-7a7f-49f3-93d8-ca1eef89bd95</td>\n      <td>MULTIPOLYGON (((-77.18738 43.20121, -77.12427 ...</td>\n    </tr>\n    <tr>\n      <th>57a5aecc-f632-45a2-bed7-fab046a7a5cd</th>\n      <td>S2A_MSIL2A_20200705T160911_N0214_R140_T17TQK_2...</td>\n      <td>https://scihub.copernicus.eu/dhus/odata/v1/Pro...</td>\n      <td>https://scihub.copernicus.eu/dhus/odata/v1/Pro...</td>\n      <td>https://scihub.copernicus.eu/dhus/odata/v1/Pro...</td>\n      <td>Date: 2020-07-05T16:09:11.024Z, Instrument: MS...</td>\n      <td>2020-07-05 16:09:11.024</td>\n      <td>2020-07-05 16:09:11.024</td>\n      <td>2020-07-06 03:23:39.381</td>\n      <td>26306</td>\n      <td>140</td>\n      <td>...</td>\n      <td>797.65 MB</td>\n      <td>GS2A_20200705T160911_026306_N02.14</td>\n      <td>S2MSI2A</td>\n      <td>2015-028A</td>\n      <td>DESCENDING</td>\n      <td>Sentinel-2A</td>\n      <td>Level-2A</td>\n      <td>S2A_MSIL2A_20200705T160911_N0214_R140_T17TQK_2...</td>\n      <td>57a5aecc-f632-45a2-bed7-fab046a7a5cd</td>\n      <td>MULTIPOLYGON (((-77.49814 44.11004, -77.47949 ...</td>\n    </tr>\n    <tr>\n      <th>d07ac3ac-5510-499f-83d4-8a7ac9e04c0b</th>\n      <td>S2A_MSIL2A_20200705T160911_N0214_R140_T17TQJ_2...</td>\n      <td>https://scihub.copernicus.eu/dhus/odata/v1/Pro...</td>\n      <td>https://scihub.copernicus.eu/dhus/odata/v1/Pro...</td>\n      <td>https://scihub.copernicus.eu/dhus/odata/v1/Pro...</td>\n      <td>Date: 2020-07-05T16:09:11.024Z, Instrument: MS...</td>\n      <td>2020-07-05 16:09:11.024</td>\n      <td>2020-07-05 16:09:11.024</td>\n      <td>2020-07-06 03:22:44.577</td>\n      <td>26306</td>\n      <td>140</td>\n      <td>...</td>\n      <td>612.45 MB</td>\n      <td>GS2A_20200705T160911_026306_N02.14</td>\n      <td>S2MSI2A</td>\n      <td>2015-028A</td>\n      <td>DESCENDING</td>\n      <td>Sentinel-2A</td>\n      <td>Level-2A</td>\n      <td>S2A_MSIL2A_20200705T160911_N0214_R140_T17TQJ_2...</td>\n      <td>d07ac3ac-5510-499f-83d4-8a7ac9e04c0b</td>\n      <td>MULTIPOLYGON (((-77.84946 43.21939, -77.82516 ...</td>\n    </tr>\n    <tr>\n      <th>4656e954-66c2-441a-b2a1-e5ebe8527995</th>\n      <td>S2A_MSIL2A_20200702T155911_N0214_R097_T17TQK_2...</td>\n      <td>https://scihub.copernicus.eu/dhus/odata/v1/Pro...</td>\n      <td>https://scihub.copernicus.eu/dhus/odata/v1/Pro...</td>\n      <td>https://scihub.copernicus.eu/dhus/odata/v1/Pro...</td>\n      <td>Date: 2020-07-02T15:59:11.024Z, Instrument: MS...</td>\n      <td>2020-07-02 15:59:11.024</td>\n      <td>2020-07-02 15:59:11.024</td>\n      <td>2020-07-03 02:31:25.327</td>\n      <td>26263</td>\n      <td>97</td>\n      <td>...</td>\n      <td>1.08 GB</td>\n      <td>GS2A_20200702T155911_026263_N02.14</td>\n      <td>S2MSI2A</td>\n      <td>2015-028A</td>\n      <td>DESCENDING</td>\n      <td>Sentinel-2A</td>\n      <td>Level-2A</td>\n      <td>S2A_MSIL2A_20200702T155911_N0214_R097_T17TQK_2...</td>\n      <td>4656e954-66c2-441a-b2a1-e5ebe8527995</td>\n      <td>MULTIPOLYGON (((-77.13000 44.09977, -77.06390 ...</td>\n    </tr>\n    <tr>\n      <th>...</th>\n      <td>...</td>\n      <td>...</td>\n      <td>...</td>\n      <td>...</td>\n      <td>...</td>\n      <td>...</td>\n      <td>...</td>\n      <td>...</td>\n      <td>...</td>\n      <td>...</td>\n      <td>...</td>\n      <td>...</td>\n      <td>...</td>\n      <td>...</td>\n      <td>...</td>\n      <td>...</td>\n      <td>...</td>\n      <td>...</td>\n      <td>...</td>\n      <td>...</td>\n      <td>...</td>\n    </tr>\n    <tr>\n      <th>8e69be14-2451-4da1-8758-434103115f0d</th>\n      <td>S2B_MSIL2A_20181218T161659_N0211_R140_T17TQK_2...</td>\n      <td>https://scihub.copernicus.eu/dhus/odata/v1/Pro...</td>\n      <td>https://scihub.copernicus.eu/dhus/odata/v1/Pro...</td>\n      <td>https://scihub.copernicus.eu/dhus/odata/v1/Pro...</td>\n      <td>Date: 2018-12-18T16:16:59.024Z, Instrument: MS...</td>\n      <td>2018-12-18 16:16:59.024</td>\n      <td>2018-12-18 16:16:59.024</td>\n      <td>2018-12-19 04:17:36.390</td>\n      <td>9318</td>\n      <td>140</td>\n      <td>...</td>\n      <td>1.03 GB</td>\n      <td>GS2B_20181218T161659_009318_N02.11</td>\n      <td>S2MSI2A</td>\n      <td>2017-013A</td>\n      <td>DESCENDING</td>\n      <td>Sentinel-2B</td>\n      <td>Level-2A</td>\n      <td>S2B_MSIL2A_20181218T161659_N0211_R140_T17TQK_2...</td>\n      <td>8e69be14-2451-4da1-8758-434103115f0d</td>\n      <td>POLYGON ((-77.09650 45.08688, -77.12940 45.006...</td>\n    </tr>\n    <tr>\n      <th>6c07a777-0ee6-4c18-a1c6-9c61172753a6</th>\n      <td>S2B_MSIL2A_20181215T160649_N0211_R097_T17TQK_2...</td>\n      <td>https://scihub.copernicus.eu/dhus/odata/v1/Pro...</td>\n      <td>https://scihub.copernicus.eu/dhus/odata/v1/Pro...</td>\n      <td>https://scihub.copernicus.eu/dhus/odata/v1/Pro...</td>\n      <td>Date: 2018-12-15T16:06:49.024Z, Instrument: MS...</td>\n      <td>2018-12-15 16:06:49.024</td>\n      <td>2018-12-15 16:06:49.024</td>\n      <td>2018-12-16 02:09:12.649</td>\n      <td>9275</td>\n      <td>97</td>\n      <td>...</td>\n      <td>1010.82 MB</td>\n      <td>GS2B_20181215T160649_009275_N02.11</td>\n      <td>S2MSI2A</td>\n      <td>2017-013A</td>\n      <td>DESCENDING</td>\n      <td>Sentinel-2B</td>\n      <td>Level-2A</td>\n      <td>S2B_MSIL2A_20181215T160649_N0211_R097_T17TQK_2...</td>\n      <td>6c07a777-0ee6-4c18-a1c6-9c61172753a6</td>\n      <td>POLYGON ((-78.45920 45.08299, -78.44492 45.125...</td>\n    </tr>\n    <tr>\n      <th>eb60b9b4-64ce-4982-9414-f8b1abeba276</th>\n      <td>S2B_MSIL2A_20181215T160649_N0211_R097_T17TQJ_2...</td>\n      <td>https://scihub.copernicus.eu/dhus/odata/v1/Pro...</td>\n      <td>https://scihub.copernicus.eu/dhus/odata/v1/Pro...</td>\n      <td>https://scihub.copernicus.eu/dhus/odata/v1/Pro...</td>\n      <td>Date: 2018-12-15T16:06:49.024Z, Instrument: MS...</td>\n      <td>2018-12-15 16:06:49.024</td>\n      <td>2018-12-15 16:06:49.024</td>\n      <td>2018-12-16 02:06:21.886</td>\n      <td>9275</td>\n      <td>97</td>\n      <td>...</td>\n      <td>807.51 MB</td>\n      <td>GS2B_20181215T160649_009275_N02.11</td>\n      <td>S2MSI2A</td>\n      <td>2017-013A</td>\n      <td>DESCENDING</td>\n      <td>Sentinel-2B</td>\n      <td>Level-2A</td>\n      <td>S2B_MSIL2A_20181215T160649_N0211_R097_T17TQJ_2...</td>\n      <td>eb60b9b4-64ce-4982-9414-f8b1abeba276</td>\n      <td>POLYGON ((-78.49643 44.22598, -77.12427 44.187...</td>\n    </tr>\n    <tr>\n      <th>48a2d624-98d7-43d8-96f9-703dac02b60b</th>\n      <td>S2A_MSIL2A_20181213T161651_N0211_R140_T17TQK_2...</td>\n      <td>https://scihub.copernicus.eu/dhus/odata/v1/Pro...</td>\n      <td>https://scihub.copernicus.eu/dhus/odata/v1/Pro...</td>\n      <td>https://scihub.copernicus.eu/dhus/odata/v1/Pro...</td>\n      <td>Date: 2018-12-13T16:16:51.024Z, Instrument: MS...</td>\n      <td>2018-12-13 16:16:51.024</td>\n      <td>2018-12-13 16:16:51.024</td>\n      <td>2018-12-13 21:13:51.349</td>\n      <td>18155</td>\n      <td>140</td>\n      <td>...</td>\n      <td>743.33 MB</td>\n      <td>GS2A_20181213T161651_018155_N02.11</td>\n      <td>S2MSI2A</td>\n      <td>2015-028A</td>\n      <td>DESCENDING</td>\n      <td>Sentinel-2A</td>\n      <td>Level-2A</td>\n      <td>S2A_MSIL2A_20181213T161651_N0211_R140_T17TQK_2...</td>\n      <td>48a2d624-98d7-43d8-96f9-703dac02b60b</td>\n      <td>POLYGON ((-77.10660 45.08717, -77.14401 44.996...</td>\n    </tr>\n    <tr>\n      <th>673b97a9-d29e-4124-accf-f4ec7aea37f3</th>\n      <td>S2A_MSIL2A_20181213T161651_N0211_R140_T17TQJ_2...</td>\n      <td>https://scihub.copernicus.eu/dhus/odata/v1/Pro...</td>\n      <td>https://scihub.copernicus.eu/dhus/odata/v1/Pro...</td>\n      <td>https://scihub.copernicus.eu/dhus/odata/v1/Pro...</td>\n      <td>Date: 2018-12-13T16:16:51.024Z, Instrument: MS...</td>\n      <td>2018-12-13 16:16:51.024</td>\n      <td>2018-12-13 16:16:51.024</td>\n      <td>2018-12-13 21:13:28.450</td>\n      <td>18155</td>\n      <td>140</td>\n      <td>...</td>\n      <td>588.15 MB</td>\n      <td>GS2A_20181213T161651_018155_N02.11</td>\n      <td>S2MSI2A</td>\n      <td>2015-028A</td>\n      <td>DESCENDING</td>\n      <td>Sentinel-2A</td>\n      <td>Level-2A</td>\n      <td>S2A_MSIL2A_20181213T161651_N0211_R140_T17TQJ_2...</td>\n      <td>673b97a9-d29e-4124-accf-f4ec7aea37f3</td>\n      <td>POLYGON ((-77.46587 44.19717, -77.49540 44.123...</td>\n    </tr>\n  </tbody>\n</table>\n<p>456 rows × 35 columns</p>\n</div>"
     },
     "metadata": {},
     "execution_count": 27
    }
   ],
   "source": [
    "gdf"
   ]
  },
  {
   "cell_type": "markdown",
   "metadata": {},
   "source": [
    "# Remove images with to much cloud coverage"
   ]
  },
  {
   "cell_type": "code",
   "execution_count": 28,
   "metadata": {},
   "outputs": [],
   "source": [
    "gdfCloudCoverage = gdf[gdf.cloudcoverpercentage < 1]"
   ]
  },
  {
   "cell_type": "markdown",
   "metadata": {},
   "source": [
    "# Remove links were polygon isn't contained in the whole"
   ]
  },
  {
   "cell_type": "code",
   "execution_count": 29,
   "metadata": {
    "tags": []
   },
   "outputs": [],
   "source": [
    "contained = []\n",
    "for i in range(gdfCloudCoverage.shape[0]):\n",
    "    contained.append(footprint.within((gdfCloudCoverage['geometry'][i])))\n"
   ]
  },
  {
   "cell_type": "code",
   "execution_count": 30,
   "metadata": {},
   "outputs": [],
   "source": [
    "gdfCloudCoverage = gdfCloudCoverage[contained]"
   ]
  },
  {
   "cell_type": "code",
   "execution_count": 31,
   "metadata": {},
   "outputs": [
    {
     "output_type": "execute_result",
     "data": {
      "text/plain": "9af-afcc-717a0a727738  https://scihub.copernicus.eu/dhus/odata/v1/Pro...   \n212a2cc7-d7b2-4613-9390-afc7ca3e65e8  https://scihub.copernicus.eu/dhus/odata/v1/Pro...   \n02779c6a-4c6a-4e52-a9c8-70a142f4baaa  https://scihub.copernicus.eu/dhus/odata/v1/Pro...   \n6f36c798-6c07-4483-9e0a-f7ffad361a7d  https://scihub.copernicus.eu/dhus/odata/v1/Pro...   \n313e3814-71e3-4195-8781-370bb04f0bda  https://scihub.copernicus.eu/dhus/odata/v1/Pro...   \n8549c170-3129-4d02-9eec-73cca5082221  https://scihub.copernicus.eu/dhus/odata/v1/Pro...   \n\n                                                                       link_alternative  \\\nc97cb044-7a7f-49f3-93d8-ca1eef89bd95  https://scihub.copernicus.eu/dhus/odata/v1/Pro...   \n36d21f3c-a3e4-4486-816b-78f101745c98  https://scihub.copernicus.eu/dhus/odata/v1/Pro...   \nf10c95ba-1ca8-4f6f-9470-cc7ee7f7cd31  https://scihub.copernicus.eu/dhus/odata/v1/Pro...   \n1fba00d6-8015-4d1b-ac54-122e38be0627  https://scihub.copernicus.eu/dhus/odata/v1/Pro...   \n2ceb6113-e13c-4938-8bbe-888ae95da8e9  https://scihub.copernicus.eu/dhus/odata/v1/Pro...   \n2d30701e-949e-4968-bf78-4ec7237ecaa1  https://scihub.copernicus.eu/dhus/odata/v1/Pro...   \ne0b7d34b-c81f-458f-9552-3b4e82d104c4  https://scihub.copernicus.eu/dhus/odata/v1/Pro...   \n116a353e-bf17-467f-8916-cb520e99b515  https://scihub.copernicus.eu/dhus/odata/v1/Pro...   \nc611b098-c272-489c-af2f-e5eeb89a2ddb  https://scihub.copernicus.eu/dhus/odata/v1/Pro...   \n9b1a18c2-aa6a-4c9e-b361-ea662984cc64  https://scihub.copernicus.eu/dhus/odata/v1/Pro...   \n5dcc2a6e-5158-49af-afcc-717a0a727738  https://scihub.copernicus.eu/dhus/odata/v1/Pro...   \n212a2cc7-d7b2-4613-9390-afc7ca3e65e8  https://scihub.copernicus.eu/dhus/odata/v1/Pro...   \n02779c6a-4c6a-4e52-a9c8-70a142f4baaa  https://scihub.copernicus.eu/dhus/odata/v1/Pro...   \n6f36c798-6c07-4483-9e0a-f7ffad361a7d  https://scihub.copernicus.eu/dhus/odata/v1/Pro...   \n313e3814-71e3-4195-8781-370bb04f0bda  https://scihub.copernicus.eu/dhus/odata/v1/Pro...   \n8549c170-3129-4d02-9eec-73cca5082221  https://scihub.copernicus.eu/dhus/odata/v1/Pro...   \n\n                                                                              link_icon  \\\nc97cb044-7a7f-49f3-93d8-ca1eef89bd95  https://scihub.copernicus.eu/dhus/odata/v1/Pro...   \n36d21f3c-a3e4-4486-816b-78f101745c98  https://scihub.copernicus.eu/dhus/odata/v1/Pro...   \nf10c95ba-1ca8-4f6f-9470-cc7ee7f7cd31  https://scihub.copernicus.eu/dhus/odata/v1/Pro...   \n1fba00d6-8015-4d1b-ac54-122e38be0627  https://scihub.copernicus.eu/dhus/odata/v1/Pro...   \n2ceb6113-e13c-4938-8bbe-888ae95da8e9  https://scihub.copernicus.eu/dhus/odata/v1/Pro...   \n2d30701e-949e-4968-bf78-4ec7237ecaa1  https://scihub.copernicus.eu/dhus/odata/v1/Pro...   \ne0b7d34b-c81f-458f-9552-3b4e82d104c4  https://scihub.copernicus.eu/dhus/odata/v1/Pro...   \n116a353e-bf17-467f-8916-cb520e99b515  https://scihub.copernicus.eu/dhus/odata/v1/Pro...   \nc611b098-c272-489c-af2f-e5eeb89a2ddb  https://scihub.copernicus.eu/dhus/odata/v1/Pro...   \n9b1a18c2-aa6a-4c9e-b361-ea662984cc64  https://scihub.copernicus.eu/dhus/odata/v1/Pro...   \n5dcc2a6e-5158-49af-afcc-717a0a727738  https://scihub.copernicus.eu/dhus/odata/v1/Pro...   \n212a2cc7-d7b2-4613-9390-afc7ca3e65e8  https://scihub.copernicus.eu/dhus/odata/v1/Pro...   \n02779c6a-4c6a-4e52-a9c8-70a142f4baaa  https://scihub.copernicus.eu/dhus/odata/v1/Pro...   \n6f36c798-6c07-4483-9e0a-f7ffad361a7d  https://scihub.copernicus.eu/dhus/odata/v1/Pro...   \n313e3814-71e3-4195-8781-370bb04f0bda  https://scihub.copernicus.eu/dhus/odata/v1/Pro...   \n8549c170-3129-4d02-9eec-73cca5082221  https://scihub.copernicus.eu/dhus/odata/v1/Pro...   \n\n                                                                                summary  \\\nc97cb044-7a7f-49f3-93d8-ca1eef89bd95  Date: 2020-07-07T15:58:19.024Z, Instrument: MS...   \n36d21f3c-a3e4-4486-816b-78f101745c98  Date: 2020-06-20T16:08:29.024Z, Instrument: MS...   \nf10c95ba-1ca8-4f6f-9470-cc7ee7f7cd31  Date: 2020-06-17T15:58:29.024Z, Instrument: MS...   \n1fba00d6-8015-4d1b-ac54-122e38be0627  Date: 2020-06-17T15:58:29.024Z, Instrument: MS...   \n2ceb6113-e13c-4938-8bbe-888ae95da8e9  Date: 2020-05-23T15:59:11.024Z, Instrument: MS...   \n2d30701e-949e-4968-bf78-4ec7237ecaa1  Date: 2020-04-01T16:08:29.024Z, Instrument: MS...   \ne0b7d34b-c81f-458f-9552-3b4e82d104c4  Date: 2019-10-11T16:02:09.024Z, Instrument: MS...   \n116a353e-bf17-467f-8916-cb520e99b515  Date: 2019-10-11T16:02:09.024Z, Instrument: MS...   \nc611b098-c272-489c-af2f-e5eeb89a2ddb  Date: 2019-10-09T16:11:51.024Z, Instrument: MS...   \n9b1a18c2-aa6a-4c9e-b361-ea662984cc64  Date: 2019-10-09T16:11:51.024Z, Instrument: MS...   \n5dcc2a6e-5158-49af-afcc-717a0a727738  Date: 2019-07-26T16:08:39.024Z, Instrument: MS...   \n212a2cc7-d7b2-4613-9390-afc7ca3e65e8  Date: 2019-07-08T15:59:11.024Z, Instrument: MS...   \n02779c6a-4c6a-4e52-a9c8-70a142f4baaa  Date: 2019-06-23T15:58:29.024Z, Instrument: MS...   \n6f36c798-6c07-4483-9e0a-f7ffad361a7d  Date: 2019-06-08T15:59:11.024Z, Instrument: MS...   \n313e3814-71e3-4195-8781-370bb04f0bda  Date: 2019-06-08T15:59:11.024Z, Instrument: MS...   \n8549c170-3129-4d02-9eec-73cca5082221  Date: 2019-06-06T16:08:39.024Z, Instrument: MS...   \n\n                                               beginposition  \\\nc97cb044-7a7f-49f3-93d8-ca1eef89bd95 2020-07-07 15:58:19.024   \n36d21f3c-a3e4-4486-816b-78f101745c98 2020-06-20 16:08:29.024   \nf10c95ba-1ca8-4f6f-9470-cc7ee7f7cd31 2020-06-17 15:58:29.024   \n1fba00d6-8015-4d1b-ac54-122e38be0627 2020-06-17 15:58:29.024   \n2ceb6113-e13c-4938-8bbe-888ae95da8e9 2020-05-23 15:59:11.024   \n2d30701e-949e-4968-bf78-4ec7237ecaa1 2020-04-01 16:08:29.024   \ne0b7d34b-c81f-458f-9552-3b4e82d104c4 2019-10-11 16:02:09.024   \n116a353e-bf17-467f-8916-cb520e99b515 2019-10-11 16:02:09.024   \nc611b098-c272-489c-af2f-e5eeb89a2ddb 2019-10-09 16:11:51.024   \n9b1a18c2-aa6a-4c9e-b361-ea662984cc64 2019-10-09 16:11:51.024   \n5dcc2a6e-5158-49af-afcc-717a0a727738 2019-07-26 16:08:39.024   \n212a2cc7-d7b2-4613-9390-afc7ca3e65e8 2019-07-08 15:59:11.024   \n02779c6a-4c6a-4e52-a9c8-70a142f4baaa 2019-06-23 15:58:29.024   \n6f36c798-6c07-4483-9e0a-f7ffad361a7d 2019-06-08 15:59:11.024   \n313e3814-71e3-4195-8781-370bb04f0bda 2019-06-08 15:59:11.024   \n8549c170-3129-4d02-9eec-73cca5082221 2019-06-06 16:08:39.024   \n\n                                                 endposition  \\\nc97cb044-7a7f-49f3-93d8-ca1eef89bd95 2020-07-07 15:58:19.024   \n36d21f3c-a3e4-4486-816b-78f101745c98 2020-06-20 16:08:29.024   \nf10c95ba-1ca8-4f6f-9470-cc7ee7f7cd31 2020-06-17 15:58:29.024   \n1fba00d6-8015-4d1b-ac54-122e38be0627 2020-06-17 15:58:29.024   \n2ceb6113-e13c-4938-8bbe-888ae95da8e9 2020-05-23 15:59:11.024   \n2d30701e-949e-4968-bf78-4ec7237ecaa1 2020-04-01 16:08:29.024   \ne0b7d34b-c81f-458f-9552-3b4e82d104c4 2019-10-11 16:02:09.024   \n116a353e-bf17-467f-8916-cb520e99b515 2019-10-11 16:02:09.024   \nc611b098-c272-489c-af2f-e5eeb89a2ddb 2019-10-09 16:11:51.024   \n9b1a18c2-aa6a-4c9e-b361-ea662984cc64 2019-10-09 16:11:51.024   \n5dcc2a6e-5158-49af-afcc-717a0a727738 2019-07-26 16:08:39.024   \n212a2cc7-d7b2-4613-9390-afc7ca3e65e8 2019-07-08 15:59:11.024   \n02779c6a-4c6a-4e52-a9c8-70a142f4baaa 2019-06-23 15:58:29.024   \n6f36c798-6c07-4483-9e0a-f7ffad361a7d 2019-06-08 15:59:11.024   \n313e3814-71e3-4195-8781-370bb04f0bda 2019-06-08 15:59:11.024   \n8549c170-3129-4d02-9eec-73cca5082221 2019-06-06 16:08:39.024   \n\n                                               ingestiondate  orbitnumber  \\\nc97cb044-7a7f-49f3-93d8-ca1eef89bd95 2020-07-07 23:14:04.806        17426   \n36d21f3c-a3e4-4486-816b-78f101745c98 2020-06-21 04:24:14.873        17183   \nf10c95ba-1ca8-4f6f-9470-cc7ee7f7cd31 2020-06-18 01:51:35.655        17140   \n1fba00d6-8015-4d1b-ac54-122e38be0627 2020-06-18 01:49:07.324        17140   \n2ceb6113-e13c-4938-8bbe-888ae95da8e9 2020-05-24 02:34:28.772        25691   \n2d30701e-949e-4968-bf78-4ec7237ecaa1 2020-04-01 23:36:55.458        16039   \ne0b7d34b-c81f-458f-9552-3b4e82d104c4 2019-10-11 23:09:44.533        13565   \n116a353e-bf17-467f-8916-cb520e99b515 2019-10-11 23:06:58.745        13565   \nc611b098-c272-489c-af2f-e5eeb89a2ddb 2019-10-10 03:32:44.696        22445   \n9b1a18c2-aa6a-4c9e-b361-ea662984cc64 2019-10-10 03:32:16.313        22445   \n5dcc2a6e-5158-49af-afcc-717a0a727738 2019-07-26 23:36:03.387        12464   \n212a2cc7-d7b2-4613-9390-afc7ca3e65e8 2019-07-09 03:25:35.466        21115   \n02779c6a-4c6a-4e52-a9c8-70a142f4baaa 2019-06-24 01:57:48.460        11992   \n6f36c798-6c07-4483-9e0a-f7ffad361a7d 2019-06-09 04:38:36.800        20686   \n313e3814-71e3-4195-8781-370bb04f0bda 2019-06-09 04:21:05.063        20686   \n8549c170-3129-4d02-9eec-73cca5082221 2019-06-07 07:21:06.457        11749   \n\n                                      relativeorbitnumber  ...        size  \\\nc97cb044-7a7f-49f3-93d8-ca1eef89bd95                   97  ...   873.39 MB   \n36d21f3c-a3e4-4486-816b-78f101745c98                  140  ...   634.40 MB   \nf10c95ba-1ca8-4f6f-9470-cc7ee7f7cd31                   97  ...     1.08 GB   \n1fba00d6-8015-4d1b-ac54-122e38be0627                   97  ...   861.03 MB   \n2ceb6113-e13c-4938-8bbe-888ae95da8e9                   97  ...     1.09 GB   \n2d30701e-949e-4968-bf78-4ec7237ecaa1                  140  ...   584.05 MB   \ne0b7d34b-c81f-458f-9552-3b4e82d104c4                   97  ...     1.10 GB   \n116a353e-bf17-467f-8916-cb520e99b515                   97  ...   867.89 MB   \nc611b098-c272-489c-af2f-e5eeb89a2ddb                  140  ...  1003.92 MB   \n9b1a18c2-aa6a-4c9e-b361-ea662984cc64                  140  ...   577.20 MB   \n5dcc2a6e-5158-49af-afcc-717a0a727738                  140  ...   974.42 MB   \n212a2cc7-d7b2-4613-9390-afc7ca3e65e8                   97  ...     1.05 GB   \n02779c6a-4c6a-4e52-a9c8-70a142f4baaa                   97  ...     1.06 GB   \n6f36c798-6c07-4483-9e0a-f7ffad361a7d                   97  ...     1.08 GB   \n313e3814-71e3-4195-8781-370bb04f0bda                   97  ...   857.71 MB   \n8549c170-3129-4d02-9eec-73cca5082221                  140  ...   603.38 MB   \n\n                                                            s2datatakeid  \\\nc97cb044-7a7f-49f3-93d8-ca1eef89bd95  GS2B_20200707T155819_017426_N02.14   \n36d21f3c-a3e4-4486-816b-78f101745c98  GS2B_20200620T160829_017183_N02.14   \nf10c95ba-1ca8-4f6f-9470-cc7ee7f7cd31  GS2B_20200617T155829_017140_N02.14   \n1fba00d6-8015-4d1b-ac54-122e38be0627  GS2B_20200617T155829_017140_N02.14   \n2ceb6113-e13c-4938-8bbe-888ae95da8e9  GS2A_20200523T155911_025691_N02.14   \n2d30701e-949e-4968-bf78-4ec7237ecaa1  GS2B_20200401T160829_016039_N02.14   \ne0b7d34b-c81f-458f-9552-3b4e82d104c4  GS2B_20191011T160209_013565_N02.13   \n116a353e-bf17-467f-8916-cb520e99b515  GS2B_20191011T160209_013565_N02.13   \nc611b098-c272-489c-af2f-e5eeb89a2ddb  GS2A_20191009T161151_022445_N02.13   \n9b1a18c2-aa6a-4c9e-b361-ea662984cc64  GS2A_20191009T161151_022445_N02.13   \n5dcc2a6e-5158-49af-afcc-717a0a727738  GS2B_20190726T160839_012464_N02.13   \n212a2cc7-d7b2-4613-9390-afc7ca3e65e8  GS2A_20190708T155911_021115_N02.13   \n02779c6a-4c6a-4e52-a9c8-70a142f4baaa  GS2B_20190623T155829_011992_N02.12   \n6f36c798-6c07-4483-9e0a-f7ffad361a7d  GS2A_20190608T155911_020686_N02.12   \n313e3814-71e3-4195-8781-370bb04f0bda  GS2A_20190608T155911_020686_N02.12   \n8549c170-3129-4d02-9eec-73cca5082221  GS2B_20190606T160839_011749_N02.12   \n\n                                      producttype  platformidentifier  \\\nc97cb044-7a7f-49f3-93d8-ca1eef89bd95      S2MSI2A           2017-013A   \n36d21f3c-a3e4-4486-816b-78f101745c98      S2MSI2A           2017-013A   \nf10c95ba-1ca8-4f6f-9470-cc7ee7f7cd31      S2MSI2A           2017-013A   \n1fba00d6-8015-4d1b-ac54-122e38be0627      S2MSI2A           2017-013A   \n2ceb6113-e13c-4938-8bbe-888ae95da8e9      S2MSI2A           2015-028A   \n2d30701e-949e-4968-bf78-4ec7237ecaa1      S2MSI2A           2017-013A   \ne0b7d34b-c81f-458f-9552-3b4e82d104c4      S2MSI2A           2017-013A   \n116a353e-bf17-467f-8916-cb520e99b515      S2MSI2A           2017-013A   \nc611b098-c272-489c-af2f-e5eeb89a2ddb      S2MSI2A           2015-028A   \n9b1a18c2-aa6a-4c9e-b361-ea662984cc64      S2MSI2A           2015-028A   \n5dcc2a6e-5158-49af-afcc-717a0a727738      S2MSI2A           2017-013A   \n212a2cc7-d7b2-4613-9390-afc7ca3e65e8      S2MSI2A           2015-028A   \n02779c6a-4c6a-4e52-a9c8-70a142f4baaa      S2MSI2A           2017-013A   \n6f36c798-6c07-4483-9e0a-f7ffad361a7d      S2MSI2A           2015-028A   \n313e3814-71e3-4195-8781-370bb04f0bda      S2MSI2A           2015-028A   \n8549c170-3129-4d02-9eec-73cca5082221      S2MSI2A           2017-013A   \n\n                                      orbitdirection  \\\nc97cb044-7a7f-49f3-93d8-ca1eef89bd95      DESCENDING   \n36d21f3c-a3e4-4486-816b-78f101745c98      DESCENDING   \nf10c95ba-1ca8-4f6f-9470-cc7ee7f7cd31      DESCENDING   \n1fba00d6-8015-4d1b-ac54-122e38be0627      DESCENDING   \n2ceb6113-e13c-4938-8bbe-888ae95da8e9      DESCENDING   \n2d30701e-949e-4968-bf78-4ec7237ecaa1      DESCENDING   \ne0b7d34b-c81f-458f-9552-3b4e82d104c4      DESCENDING   \n116a353e-bf17-467f-8916-cb520e99b515      DESCENDING   \nc611b098-c272-489c-af2f-e5eeb89a2ddb      DESCENDING   \n9b1a18c2-aa6a-4c9e-b361-ea662984cc64      DESCENDING   \n5dcc2a6e-5158-49af-afcc-717a0a727738      DESCENDING   \n212a2cc7-d7b2-4613-9390-afc7ca3e65e8      DESCENDING   \n02779c6a-4c6a-4e52-a9c8-70a142f4baaa      DESCENDING   \n6f36c798-6c07-4483-9e0a-f7ffad361a7d      DESCENDING   \n313e3814-71e3-4195-8781-370bb04f0bda      DESCENDING   \n8549c170-3129-4d02-9eec-73cca5082221      DESCENDING   \n\n                                      platformserialidentifier  \\\nc97cb044-7a7f-49f3-93d8-ca1eef89bd95               Sentinel-2B   \n36d21f3c-a3e4-4486-816b-78f101745c98               Sentinel-2B   \nf10c95ba-1ca8-4f6f-9470-cc7ee7f7cd31               Sentinel-2B   \n1fba00d6-8015-4d1b-ac54-122e38be0627               Sentinel-2B   \n2ceb6113-e13c-4938-8bbe-888ae95da8e9               Sentinel-2A   \n2d30701e-949e-4968-bf78-4ec7237ecaa1               Sentinel-2B   \ne0b7d34b-c81f-458f-9552-3b4e82d104c4               Sentinel-2B   \n116a353e-bf17-467f-8916-cb520e99b515               Sentinel-2B   \nc611b098-c272-489c-af2f-e5eeb89a2ddb               Sentinel-2A   \n9b1a18c2-aa6a-4c9e-b361-ea662984cc64               Sentinel-2A   \n5dcc2a6e-5158-49af-afcc-717a0a727738               Sentinel-2B   \n212a2cc7-d7b2-4613-9390-afc7ca3e65e8               Sentinel-2A   \n02779c6a-4c6a-4e52-a9c8-70a142f4baaa               Sentinel-2B   \n6f36c798-6c07-4483-9e0a-f7ffad361a7d               Sentinel-2A   \n313e3814-71e3-4195-8781-370bb04f0bda               Sentinel-2A   \n8549c170-3129-4d02-9eec-73cca5082221               Sentinel-2B   \n\n                                      processinglevel  \\\nc97cb044-7a7f-49f3-93d8-ca1eef89bd95         Level-2A   \n36d21f3c-a3e4-4486-816b-78f101745c98         Level-2A   \nf10c95ba-1ca8-4f6f-9470-cc7ee7f7cd31         Level-2A   \n1fba00d6-8015-4d1b-ac54-122e38be0627         Level-2A   \n2ceb6113-e13c-4938-8bbe-888ae95da8e9         Level-2A   \n2d30701e-949e-4968-bf78-4ec7237ecaa1         Level-2A   \ne0b7d34b-c81f-458f-9552-3b4e82d104c4         Level-2A   \n116a353e-bf17-467f-8916-cb520e99b515         Level-2A   \nc611b098-c272-489c-af2f-e5eeb89a2ddb         Level-2A   \n9b1a18c2-aa6a-4c9e-b361-ea662984cc64         Level-2A   \n5dcc2a6e-5158-49af-afcc-717a0a727738         Level-2A   \n212a2cc7-d7b2-4613-9390-afc7ca3e65e8         Level-2A   \n02779c6a-4c6a-4e52-a9c8-70a142f4baaa         Level-2A   \n6f36c798-6c07-4483-9e0a-f7ffad361a7d         Level-2A   \n313e3814-71e3-4195-8781-370bb04f0bda         Level-2A   \n8549c170-3129-4d02-9eec-73cca5082221         Level-2A   \n\n                                                                             identifier  \\\nc97cb044-7a7f-49f3-93d8-ca1eef89bd95  S2B_MSIL2A_20200707T155819_N0214_R097_T17TQJ_2...   \n36d21f3c-a3e4-4486-816b-78f101745c98  S2B_MSIL2A_20200620T160829_N0214_R140_T17TQJ_2...   \nf10c95ba-1ca8-4f6f-9470-cc7ee7f7cd31  S2B_MSIL2A_20200617T155829_N0214_R097_T17TQK_2...   \n1fba00d6-8015-4d1b-ac54-122e38be0627  S2B_MSIL2A_20200617T155829_N0214_R097_T17TQJ_2...   \n2ceb6113-e13c-4938-8bbe-888ae95da8e9  S2A_MSIL2A_20200523T155911_N0214_R097_T17TQK_2...   \n2d30701e-949e-4968-bf78-4ec7237ecaa1  S2B_MSIL2A_20200401T160829_N0214_R140_T17TQJ_2...   \ne0b7d34b-c81f-458f-9552-3b4e82d104c4  S2B_MSIL2A_20191011T160209_N0213_R097_T17TQK_2...   \n116a353e-bf17-467f-8916-cb520e99b515  S2B_MSIL2A_20191011T160209_N0213_R097_T17TQJ_2...   \nc611b098-c272-489c-af2f-e5eeb89a2ddb  S2A_MSIL2A_20191009T161151_N0213_R140_T17TQK_2...   \n9b1a18c2-aa6a-4c9e-b361-ea662984cc64  S2A_MSIL2A_20191009T161151_N0213_R140_T17TQJ_2...   \n5dcc2a6e-5158-49af-afcc-717a0a727738  S2B_MSIL2A_20190726T160839_N0213_R140_T17TQK_2...   \n212a2cc7-d7b2-4613-9390-afc7ca3e65e8  S2A_MSIL2A_20190708T155911_N0213_R097_T17TQK_2...   \n02779c6a-4c6a-4e52-a9c8-70a142f4baaa  S2B_MSIL2A_20190623T155829_N0212_R097_T17TQK_2...   \n6f36c798-6c07-4483-9e0a-f7ffad361a7d  S2A_MSIL2A_20190608T155911_N0212_R097_T17TQK_2...   \n313e3814-71e3-4195-8781-370bb04f0bda  S2A_MSIL2A_20190608T155911_N0212_R097_T17TQJ_2...   \n8549c170-3129-4d02-9eec-73cca5082221  S2B_MSIL2A_20190606T160839_N0212_R140_T17TQJ_2...   \n\n                                                                      uuid  \\\nc97cb044-7a7f-49f3-93d8-ca1eef89bd95  c97cb044-7a7f-49f3-93d8-ca1eef89bd95   \n36d21f3c-a3e4-4486-816b-78f101745c98  36d21f3c-a3e4-4486-816b-78f101745c98   \nf10c95ba-1ca8-4f6f-9470-cc7ee7f7cd31  f10c95ba-1ca8-4f6f-9470-cc7ee7f7cd31   \n1fba00d6-8015-4d1b-ac54-122e38be0627  1fba00d6-8015-4d1b-ac54-122e38be0627   \n2ceb6113-e13c-4938-8bbe-888ae95da8e9  2ceb6113-e13c-4938-8bbe-888ae95da8e9   \n2d30701e-949e-4968-bf78-4ec7237ecaa1  2d30701e-949e-4968-bf78-4ec7237ecaa1   \ne0b7d34b-c81f-458f-9552-3b4e82d104c4  e0b7d34b-c81f-458f-9552-3b4e82d104c4   \n116a353e-bf17-467f-8916-cb520e99b515  116a353e-bf17-467f-8916-cb520e99b515   \nc611b098-c272-489c-af2f-e5eeb89a2ddb  c611b098-c272-489c-af2f-e5eeb89a2ddb   \n9b1a18c2-aa6a-4c9e-b361-ea662984cc64  9b1a18c2-aa6a-4c9e-b361-ea662984cc64   \n5dcc2a6e-5158-49af-afcc-717a0a727738  5dcc2a6e-5158-49af-afcc-717a0a727738   \n212a2cc7-d7b2-4613-9390-afc7ca3e65e8  212a2cc7-d7b2-4613-9390-afc7ca3e65e8   \n02779c6a-4c6a-4e52-a9c8-70a142f4baaa  02779c6a-4c6a-4e52-a9c8-70a142f4baaa   \n6f36c798-6c07-4483-9e0a-f7ffad361a7d  6f36c798-6c07-4483-9e0a-f7ffad361a7d   \n313e3814-71e3-4195-8781-370bb04f0bda  313e3814-71e3-4195-8781-370bb04f0bda   \n8549c170-3129-4d02-9eec-73cca5082221  8549c170-3129-4d02-9eec-73cca5082221   \n\n                                                                               geometry  \nc97cb044-7a7f-49f3-93d8-ca1eef89bd95  MULTIPOLYGON (((-77.18738 43.20121, -77.12427 ...  \n36d21f3c-a3e4-4486-816b-78f101745c98  MULTIPOLYGON (((-77.84817 43.21935, -77.84326 ...  \nf10c95ba-1ca8-4f6f-9470-cc7ee7f7cd31  MULTIPOLYGON (((-77.13000 44.09977, -77.06390 ...  \n1fba00d6-8015-4d1b-ac54-122e38be0627  MULTIPOLYGON (((-77.18738 43.20121, -77.12427 ...  \n2ceb6113-e13c-4938-8bbe-888ae95da8e9  MULTIPOLYGON (((-77.13000 44.09977, -77.06390 ...  \n2d30701e-949e-4968-bf78-4ec7237ecaa1  MULTIPOLYGON (((-77.84689 43.21932, -77.81058 ...  \ne0b7d34b-c81f-458f-9552-3b4e82d104c4  MULTIPOLYGON (((-77.13001 44.09977, -77.06390 ...  \n116a353e-bf17-467f-8916-cb520e99b515  MULTIPOLYGON (((-77.18737 43.20121, -77.12426 ...  \nc611b098-c272-489c-af2f-e5eeb89a2ddb  MULTIPOLYGON (((-77.50336 44.11019, -77.45334 ...  \n9b1a18c2-aa6a-4c9e-b361-ea662984cc64  MULTIPOLYGON (((-77.85535 43.21955, -77.79981 ...  \n5dcc2a6e-5158-49af-afcc-717a0a727738  MULTIPOLYGON (((-77.50766 44.11031, -77.50650 ...  \n212a2cc7-d7b2-4613-9390-afc7ca3e65e8  MULTIPOLYGON (((-77.13000 44.09977, -77.06390 ...  \n02779c6a-4c6a-4e52-a9c8-70a142f4baaa  MULTIPOLYGON (((-77.13000 44.09977, -77.06390 ...  \n6f36c798-6c07-4483-9e0a-f7ffad361a7d  MULTIPOLYGON (((-77.13000 44.09977, -77.06390 ...  \n313e3814-71e3-4195-8781-370bb04f0bda  MULTIPOLYGON (((-77.18738 43.20121, -77.12427 ...  \n8549c170-3129-4d02-9eec-73cca5082221  MULTIPOLYGON (((-77.85510 43.21954, -77.82513 ...  \n\n[16 rows x 35 columns]",
      "text/html": "<div>\n<style scoped>\n    .dataframe tbody tr th:only-of-type {\n        vertical-align: middle;\n    }\n\n    .dataframe tbody tr th {\n        vertical-align: top;\n    }\n\n    .dataframe thead th {\n        text-align: right;\n    }\n</style>\n<table border=\"1\" class=\"dataframe\">\n  <thead>\n    <tr style=\"text-align: right;\">\n      <th></th>\n      <th>title</th>\n      <th>link</th>\n      <th>link_alternative</th>\n      <th>link_icon</th>\n      <th>summary</th>\n      <th>beginposition</th>\n      <th>endposition</th>\n      <th>ingestiondate</th>\n      <th>orbitnumber</th>\n      <th>relativeorbitnumber</th>\n      <th>...</th>\n      <th>size</th>\n      <th>s2datatakeid</th>\n      <th>producttype</th>\n      <th>platformidentifier</th>\n      <th>orbitdirection</th>\n      <th>platformserialidentifier</th>\n      <th>processinglevel</th>\n      <th>identifier</th>\n      <th>uuid</th>\n      <th>geometry</th>\n    </tr>\n  </thead>\n  <tbody>\n    <tr>\n      <th>c97cb044-7a7f-49f3-93d8-ca1eef89bd95</th>\n      <td>S2B_MSIL2A_20200707T155819_N0214_R097_T17TQJ_2...</td>\n      <td>https://scihub.copernicus.eu/dhus/odata/v1/Pro...</td>\n      <td>https://scihub.copernicus.eu/dhus/odata/v1/Pro...</td>\n      <td>https://scihub.copernicus.eu/dhus/odata/v1/Pro...</td>\n      <td>Date: 2020-07-07T15:58:19.024Z, Instrument: MS...</td>\n      <td>2020-07-07 15:58:19.024</td>\n      <td>2020-07-07 15:58:19.024</td>\n      <td>2020-07-07 23:14:04.806</td>\n      <td>17426</td>\n      <td>97</td>\n      <td>...</td>\n      <td>873.39 MB</td>\n      <td>GS2B_20200707T155819_017426_N02.14</td>\n      <td>S2MSI2A</td>\n      <td>2017-013A</td>\n      <td>DESCENDING</td>\n      <td>Sentinel-2B</td>\n      <td>Level-2A</td>\n      <td>S2B_MSIL2A_20200707T155819_N0214_R097_T17TQJ_2...</td>\n      <td>c97cb044-7a7f-49f3-93d8-ca1eef89bd95</td>\n      <td>MULTIPOLYGON (((-77.18738 43.20121, -77.12427 ...</td>\n    </tr>\n    <tr>\n      <th>36d21f3c-a3e4-4486-816b-78f101745c98</th>\n      <td>S2B_MSIL2A_20200620T160829_N0214_R140_T17TQJ_2...</td>\n      <td>https://scihub.copernicus.eu/dhus/odata/v1/Pro...</td>\n      <td>https://scihub.copernicus.eu/dhus/odata/v1/Pro...</td>\n      <td>https://scihub.copernicus.eu/dhus/odata/v1/Pro...</td>\n      <td>Date: 2020-06-20T16:08:29.024Z, Instrument: MS...</td>\n      <td>2020-06-20 16:08:29.024</td>\n      <td>2020-06-20 16:08:29.024</td>\n      <td>2020-06-21 04:24:14.873</td>\n      <td>17183</td>\n      <td>140</td>\n      <td>...</td>\n      <td>634.40 MB</td>\n      <td>GS2B_20200620T160829_017183_N02.14</td>\n      <td>S2MSI2A</td>\n      <td>2017-013A</td>\n      <td>DESCENDING</td>\n      <td>Sentinel-2B</td>\n      <td>Level-2A</td>\n      <td>S2B_MSIL2A_20200620T160829_N0214_R140_T17TQJ_2...</td>\n      <td>36d21f3c-a3e4-4486-816b-78f101745c98</td>\n      <td>MULTIPOLYGON (((-77.84817 43.21935, -77.84326 ...</td>\n    </tr>\n    <tr>\n      <th>f10c95ba-1ca8-4f6f-9470-cc7ee7f7cd31</th>\n      <td>S2B_MSIL2A_20200617T155829_N0214_R097_T17TQK_2...</td>\n      <td>https://scihub.copernicus.eu/dhus/odata/v1/Pro...</td>\n      <td>https://scihub.copernicus.eu/dhus/odata/v1/Pro...</td>\n      <td>https://scihub.copernicus.eu/dhus/odata/v1/Pro...</td>\n      <td>Date: 2020-06-17T15:58:29.024Z, Instrument: MS...</td>\n      <td>2020-06-17 15:58:29.024</td>\n      <td>2020-06-17 15:58:29.024</td>\n      <td>2020-06-18 01:51:35.655</td>\n      <td>17140</td>\n      <td>97</td>\n      <td>...</td>\n      <td>1.08 GB</td>\n      <td>GS2B_20200617T155829_017140_N02.14</td>\n      <td>S2MSI2A</td>\n      <td>2017-013A</td>\n      <td>DESCENDING</td>\n      <td>Sentinel-2B</td>\n      <td>Level-2A</td>\n      <td>S2B_MSIL2A_20200617T155829_N0214_R097_T17TQK_2...</td>\n      <td>f10c95ba-1ca8-4f6f-9470-cc7ee7f7cd31</td>\n      <td>MULTIPOLYGON (((-77.13000 44.09977, -77.06390 ...</td>\n    </tr>\n    <tr>\n      <th>1fba00d6-8015-4d1b-ac54-122e38be0627</th>\n      <td>S2B_MSIL2A_20200617T155829_N0214_R097_T17TQJ_2...</td>\n      <td>https://scihub.copernicus.eu/dhus/odata/v1/Pro...</td>\n      <td>https://scihub.copernicus.eu/dhus/odata/v1/Pro...</td>\n      <td>https://scihub.copernicus.eu/dhus/odata/v1/Pro...</td>\n      <td>Date: 2020-06-17T15:58:29.024Z, Instrument: MS...</td>\n      <td>2020-06-17 15:58:29.024</td>\n      <td>2020-06-17 15:58:29.024</td>\n      <td>2020-06-18 01:49:07.324</td>\n      <td>17140</td>\n      <td>97</td>\n      <td>...</td>\n      <td>861.03 MB</td>\n      <td>GS2B_20200617T155829_017140_N02.14</td>\n      <td>S2MSI2A</td>\n      <td>2017-013A</td>\n      <td>DESCENDING</td>\n      <td>Sentinel-2B</td>\n      <td>Level-2A</td>\n      <td>S2B_MSIL2A_20200617T155829_N0214_R097_T17TQJ_2...</td>\n      <td>1fba00d6-8015-4d1b-ac54-122e38be0627</td>\n      <td>MULTIPOLYGON (((-77.18738 43.20121, -77.12427 ...</td>\n    </tr>\n    <tr>\n      <th>2ceb6113-e13c-4938-8bbe-888ae95da8e9</th>\n      <td>S2A_MSIL2A_20200523T155911_N0214_R097_T17TQK_2...</td>\n      <td>https://scihub.copernicus.eu/dhus/odata/v1/Pro...</td>\n      <td>https://scihub.copernicus.eu/dhus/odata/v1/Pro...</td>\n      <td>https://scihub.copernicus.eu/dhus/odata/v1/Pro...</td>\n      <td>Date: 2020-05-23T15:59:11.024Z, Instrument: MS...</td>\n      <td>2020-05-23 15:59:11.024</td>\n      <td>2020-05-23 15:59:11.024</td>\n      <td>2020-05-24 02:34:28.772</td>\n      <td>25691</td>\n      <td>97</td>\n      <td>...</td>\n      <td>1.09 GB</td>\n      <td>GS2A_20200523T155911_025691_N02.14</td>\n      <td>S2MSI2A</td>\n      <td>2015-028A</td>\n      <td>DESCENDING</td>\n      <td>Sentinel-2A</td>\n      <td>Level-2A</td>\n      <td>S2A_MSIL2A_20200523T155911_N0214_R097_T17TQK_2...</td>\n      <td>2ceb6113-e13c-4938-8bbe-888ae95da8e9</td>\n      <td>MULTIPOLYGON (((-77.13000 44.09977, -77.06390 ...</td>\n    </tr>\n    <tr>\n      <th>2d30701e-949e-4968-bf78-4ec7237ecaa1</th>\n      <td>S2B_MSIL2A_20200401T160829_N0214_R140_T17TQJ_2...</td>\n      <td>https://scihub.copernicus.eu/dhus/odata/v1/Pro...</td>\n      <td>https://scihub.copernicus.eu/dhus/odata/v1/Pro...</td>\n      <td>https://scihub.copernicus.eu/dhus/odata/v1/Pro...</td>\n      <td>Date: 2020-04-01T16:08:29.024Z, Instrument: MS...</td>\n      <td>2020-04-01 16:08:29.024</td>\n      <td>2020-04-01 16:08:29.024</td>\n      <td>2020-04-01 23:36:55.458</td>\n      <td>16039</td>\n      <td>140</td>\n      <td>...</td>\n      <td>584.05 MB</td>\n      <td>GS2B_20200401T160829_016039_N02.14</td>\n      <td>S2MSI2A</td>\n      <td>2017-013A</td>\n      <td>DESCENDING</td>\n      <td>Sentinel-2B</td>\n      <td>Level-2A</td>\n      <td>S2B_MSIL2A_20200401T160829_N0214_R140_T17TQJ_2...</td>\n      <td>2d30701e-949e-4968-bf78-4ec7237ecaa1</td>\n      <td>MULTIPOLYGON (((-77.84689 43.21932, -77.81058 ...</td>\n    </tr>\n    <tr>\n      <th>e0b7d34b-c81f-458f-9552-3b4e82d104c4</th>\n      <td>S2B_MSIL2A_20191011T160209_N0213_R097_T17TQK_2...</td>\n      <td>https://scihub.copernicus.eu/dhus/odata/v1/Pro...</td>\n      <td>https://scihub.copernicus.eu/dhus/odata/v1/Pro...</td>\n      <td>https://scihub.copernicus.eu/dhus/odata/v1/Pro...</td>\n      <td>Date: 2019-10-11T16:02:09.024Z, Instrument: MS...</td>\n      <td>2019-10-11 16:02:09.024</td>\n      <td>2019-10-11 16:02:09.024</td>\n      <td>2019-10-11 23:09:44.533</td>\n      <td>13565</td>\n      <td>97</td>\n      <td>...</td>\n      <td>1.10 GB</td>\n      <td>GS2B_20191011T160209_013565_N02.13</td>\n      <td>S2MSI2A</td>\n      <td>2017-013A</td>\n      <td>DESCENDING</td>\n      <td>Sentinel-2B</td>\n      <td>Level-2A</td>\n      <td>S2B_MSIL2A_20191011T160209_N0213_R097_T17TQK_2...</td>\n      <td>e0b7d34b-c81f-458f-9552-3b4e82d104c4</td>\n      <td>MULTIPOLYGON (((-77.13001 44.09977, -77.06390 ...</td>\n    </tr>\n    <tr>\n      <th>116a353e-bf17-467f-8916-cb520e99b515</th>\n      <td>S2B_MSIL2A_20191011T160209_N0213_R097_T17TQJ_2...</td>\n      <td>https://scihub.copernicus.eu/dhus/odata/v1/Pro...</td>\n      <td>https://scihub.copernicus.eu/dhus/odata/v1/Pro...</td>\n      <td>https://scihub.copernicus.eu/dhus/odata/v1/Pro...</td>\n      <td>Date: 2019-10-11T16:02:09.024Z, Instrument: MS...</td>\n      <td>2019-10-11 16:02:09.024</td>\n      <td>2019-10-11 16:02:09.024</td>\n      <td>2019-10-11 23:06:58.745</td>\n      <td>13565</td>\n      <td>97</td>\n      <td>...</td>\n      <td>867.89 MB</td>\n      <td>GS2B_20191011T160209_013565_N02.13</td>\n      <td>S2MSI2A</td>\n      <td>2017-013A</td>\n      <td>DESCENDING</td>\n      <td>Sentinel-2B</td>\n      <td>Level-2A</td>\n      <td>S2B_MSIL2A_20191011T160209_N0213_R097_T17TQJ_2...</td>\n      <td>116a353e-bf17-467f-8916-cb520e99b515</td>\n      <td>MULTIPOLYGON (((-77.18737 43.20121, -77.12426 ...</td>\n    </tr>\n    <tr>\n      <th>c611b098-c272-489c-af2f-e5eeb89a2ddb</th>\n      <td>S2A_MSIL2A_20191009T161151_N0213_R140_T17TQK_2...</td>\n      <td>https://scihub.copernicus.eu/dhus/odata/v1/Pro...</td>\n      <td>https://scihub.copernicus.eu/dhus/odata/v1/Pro...</td>\n      <td>https://scihub.copernicus.eu/dhus/odata/v1/Pro...</td>\n      <td>Date: 2019-10-09T16:11:51.024Z, Instrument: MS...</td>\n      <td>2019-10-09 16:11:51.024</td>\n      <td>2019-10-09 16:11:51.024</td>\n      <td>2019-10-10 03:32:44.696</td>\n      <td>22445</td>\n      <td>140</td>\n      <td>...</td>\n      <td>1003.92 MB</td>\n      <td>GS2A_20191009T161151_022445_N02.13</td>\n      <td>S2MSI2A</td>\n      <td>2015-028A</td>\n      <td>DESCENDING</td>\n      <td>Sentinel-2A</td>\n      <td>Level-2A</td>\n      <td>S2A_MSIL2A_20191009T161151_N0213_R140_T17TQK_2...</td>\n      <td>c611b098-c272-489c-af2f-e5eeb89a2ddb</td>\n      <td>MULTIPOLYGON (((-77.50336 44.11019, -77.45334 ...</td>\n    </tr>\n    <tr>\n      <th>9b1a18c2-aa6a-4c9e-b361-ea662984cc64</th>\n      <td>S2A_MSIL2A_20191009T161151_N0213_R140_T17TQJ_2...</td>\n      <td>https://scihub.copernicus.eu/dhus/odata/v1/Pro...</td>\n      <td>https://scihub.copernicus.eu/dhus/odata/v1/Pro...</td>\n      <td>https://scihub.copernicus.eu/dhus/odata/v1/Pro...</td>\n      <td>Date: 2019-10-09T16:11:51.024Z, Instrument: MS...</td>\n      <td>2019-10-09 16:11:51.024</td>\n      <td>2019-10-09 16:11:51.024</td>\n      <td>2019-10-10 03:32:16.313</td>\n      <td>22445</td>\n      <td>140</td>\n      <td>...</td>\n      <td>577.20 MB</td>\n      <td>GS2A_20191009T161151_022445_N02.13</td>\n      <td>S2MSI2A</td>\n      <td>2015-028A</td>\n      <td>DESCENDING</td>\n      <td>Sentinel-2A</td>\n      <td>Level-2A</td>\n      <td>S2A_MSIL2A_20191009T161151_N0213_R140_T17TQJ_2...</td>\n      <td>9b1a18c2-aa6a-4c9e-b361-ea662984cc64</td>\n      <td>MULTIPOLYGON (((-77.85535 43.21955, -77.79981 ...</td>\n    </tr>\n    <tr>\n      <th>5dcc2a6e-5158-49af-afcc-717a0a727738</th>\n      <td>S2B_MSIL2A_20190726T160839_N0213_R140_T17TQK_2...</td>\n      <td>https://scihub.copernicus.eu/dhus/odata/v1/Pro...</td>\n      <td>https://scihub.copernicus.eu/dhus/odata/v1/Pro...</td>\n      <td>https://scihub.copernicus.eu/dhus/odata/v1/Pro...</td>\n      <td>Date: 2019-07-26T16:08:39.024Z, Instrument: MS...</td>\n      <td>2019-07-26 16:08:39.024</td>\n      <td>2019-07-26 16:08:39.024</td>\n      <td>2019-07-26 23:36:03.387</td>\n      <td>12464</td>\n      <td>140</td>\n      <td>...</td>\n      <td>974.42 MB</td>\n      <td>GS2B_20190726T160839_012464_N02.13</td>\n      <td>S2MSI2A</td>\n      <td>2017-013A</td>\n      <td>DESCENDING</td>\n      <td>Sentinel-2B</td>\n      <td>Level-2A</td>\n      <td>S2B_MSIL2A_20190726T160839_N0213_R140_T17TQK_2...</td>\n      <td>5dcc2a6e-5158-49af-afcc-717a0a727738</td>\n      <td>MULTIPOLYGON (((-77.50766 44.11031, -77.50650 ...</td>\n    </tr>\n    <tr>\n      <th>212a2cc7-d7b2-4613-9390-afc7ca3e65e8</th>\n      <td>S2A_MSIL2A_20190708T155911_N0213_R097_T17TQK_2...</td>\n      <td>https://scihub.copernicus.eu/dhus/odata/v1/Pro...</td>\n      <td>https://scihub.copernicus.eu/dhus/odata/v1/Pro...</td>\n      <td>https://scihub.copernicus.eu/dhus/odata/v1/Pro...</td>\n      <td>Date: 2019-07-08T15:59:11.024Z, Instrument: MS...</td>\n      <td>2019-07-08 15:59:11.024</td>\n      <td>2019-07-08 15:59:11.024</td>\n      <td>2019-07-09 03:25:35.466</td>\n      <td>21115</td>\n      <td>97</td>\n      <td>...</td>\n      <td>1.05 GB</td>\n      <td>GS2A_20190708T155911_021115_N02.13</td>\n      <td>S2MSI2A</td>\n      <td>2015-028A</td>\n      <td>DESCENDING</td>\n      <td>Sentinel-2A</td>\n      <td>Level-2A</td>\n      <td>S2A_MSIL2A_20190708T155911_N0213_R097_T17TQK_2...</td>\n      <td>212a2cc7-d7b2-4613-9390-afc7ca3e65e8</td>\n      <td>MULTIPOLYGON (((-77.13000 44.09977, -77.06390 ...</td>\n    </tr>\n    <tr>\n      <th>02779c6a-4c6a-4e52-a9c8-70a142f4baaa</th>\n      <td>S2B_MSIL2A_20190623T155829_N0212_R097_T17TQK_2...</td>\n      <td>https://scihub.copernicus.eu/dhus/odata/v1/Pro...</td>\n      <td>https://scihub.copernicus.eu/dhus/odata/v1/Pro...</td>\n      <td>https://scihub.copernicus.eu/dhus/odata/v1/Pro...</td>\n      <td>Date: 2019-06-23T15:58:29.024Z, Instrument: MS...</td>\n      <td>2019-06-23 15:58:29.024</td>\n      <td>2019-06-23 15:58:29.024</td>\n      <td>2019-06-24 01:57:48.460</td>\n      <td>11992</td>\n      <td>97</td>\n      <td>...</td>\n      <td>1.06 GB</td>\n      <td>GS2B_20190623T155829_011992_N02.12</td>\n      <td>S2MSI2A</td>\n      <td>2017-013A</td>\n      <td>DESCENDING</td>\n      <td>Sentinel-2B</td>\n      <td>Level-2A</td>\n      <td>S2B_MSIL2A_20190623T155829_N0212_R097_T17TQK_2...</td>\n      <td>02779c6a-4c6a-4e52-a9c8-70a142f4baaa</td>\n      <td>MULTIPOLYGON (((-77.13000 44.09977, -77.06390 ...</td>\n    </tr>\n    <tr>\n      <th>6f36c798-6c07-4483-9e0a-f7ffad361a7d</th>\n      <td>S2A_MSIL2A_20190608T155911_N0212_R097_T17TQK_2...</td>\n      <td>https://scihub.copernicus.eu/dhus/odata/v1/Pro...</td>\n      <td>https://scihub.copernicus.eu/dhus/odata/v1/Pro...</td>\n      <td>https://scihub.copernicus.eu/dhus/odata/v1/Pro...</td>\n      <td>Date: 2019-06-08T15:59:11.024Z, Instrument: MS...</td>\n      <td>2019-06-08 15:59:11.024</td>\n      <td>2019-06-08 15:59:11.024</td>\n      <td>2019-06-09 04:38:36.800</td>\n      <td>20686</td>\n      <td>97</td>\n      <td>...</td>\n      <td>1.08 GB</td>\n      <td>GS2A_20190608T155911_020686_N02.12</td>\n      <td>S2MSI2A</td>\n      <td>2015-028A</td>\n      <td>DESCENDING</td>\n      <td>Sentinel-2A</td>\n      <td>Level-2A</td>\n      <td>S2A_MSIL2A_20190608T155911_N0212_R097_T17TQK_2...</td>\n      <td>6f36c798-6c07-4483-9e0a-f7ffad361a7d</td>\n      <td>MULTIPOLYGON (((-77.13000 44.09977, -77.06390 ...</td>\n    </tr>\n    <tr>\n      <th>313e3814-71e3-4195-8781-370bb04f0bda</th>\n      <td>S2A_MSIL2A_20190608T155911_N0212_R097_T17TQJ_2...</td>\n      <td>https://scihub.copernicus.eu/dhus/odata/v1/Pro...</td>\n      <td>https://scihub.copernicus.eu/dhus/odata/v1/Pro...</td>\n      <td>https://scihub.copernicus.eu/dhus/odata/v1/Pro...</td>\n      <td>Date: 2019-06-08T15:59:11.024Z, Instrument: MS...</td>\n      <td>2019-06-08 15:59:11.024</td>\n      <td>2019-06-08 15:59:11.024</td>\n      <td>2019-06-09 04:21:05.063</td>\n      <td>20686</td>\n      <td>97</td>\n      <td>...</td>\n      <td>857.71 MB</td>\n      <td>GS2A_20190608T155911_020686_N02.12</td>\n      <td>S2MSI2A</td>\n      <td>2015-028A</td>\n      <td>DESCENDING</td>\n      <td>Sentinel-2A</td>\n      <td>Level-2A</td>\n      <td>S2A_MSIL2A_20190608T155911_N0212_R097_T17TQJ_2...</td>\n      <td>313e3814-71e3-4195-8781-370bb04f0bda</td>\n      <td>MULTIPOLYGON (((-77.18738 43.20121, -77.12427 ...</td>\n    </tr>\n    <tr>\n      <th>8549c170-3129-4d02-9eec-73cca5082221</th>\n      <td>S2B_MSIL2A_20190606T160839_N0212_R140_T17TQJ_2...</td>\n      <td>https://scihub.copernicus.eu/dhus/odata/v1/Pro...</td>\n      <td>https://scihub.copernicus.eu/dhus/odata/v1/Pro...</td>\n      <td>https://scihub.copernicus.eu/dhus/odata/v1/Pro...</td>\n      <td>Date: 2019-06-06T16:08:39.024Z, Instrument: MS...</td>\n      <td>2019-06-06 16:08:39.024</td>\n      <td>2019-06-06 16:08:39.024</td>\n      <td>2019-06-07 07:21:06.457</td>\n      <td>11749</td>\n      <td>140</td>\n      <td>...</td>\n      <td>603.38 MB</td>\n      <td>GS2B_20190606T160839_011749_N02.12</td>\n      <td>S2MSI2A</td>\n      <td>2017-013A</td>\n      <td>DESCENDING</td>\n      <td>Sentinel-2B</td>\n      <td>Level-2A</td>\n      <td>S2B_MSIL2A_20190606T160839_N0212_R140_T17TQJ_2...</td>\n      <td>8549c170-3129-4d02-9eec-73cca5082221</td>\n      <td>MULTIPOLYGON (((-77.85510 43.21954, -77.82513 ...</td>\n    </tr>\n  </tbody>\n</table>\n<p>16 rows × 35 columns</p>\n</div>"
     },
     "metadata": {},
     "execution_count": 31
    }
   ],
   "source": [
    "gdfCloudCoverage"
   ]
  },
  {
   "cell_type": "markdown",
   "metadata": {},
   "source": [
    "# Sort by file size"
   ]
  },
  {
   "cell_type": "code",
   "execution_count": 32,
   "metadata": {},
   "outputs": [],
   "source": [
    "def fileSizeFormat(size):\n",
    "    info = size.split(' ')\n",
    "    if info[1] == 'GB':\n",
    "        actualSize = float(info[0])*1000\n",
    "        return actualSize\n",
    "    else:\n",
    "        return float(info[0])"
   ]
  },
  {
   "cell_type": "code",
   "execution_count": 33,
   "metadata": {},
   "outputs": [],
   "source": [
    "gdfCloudCoverage['f_Size'] = gdfCloudCoverage['size'].apply(fileSizeFormat)"
   ]
  },
  {
   "cell_type": "code",
   "execution_count": 34,
   "metadata": {},
   "outputs": [],
   "source": [
    "gdfCloudCoverage.sort_values(by=['cloudcoverpercentage'], ascending=[True], inplace=True)"
   ]
  },
  {
   "cell_type": "code",
   "execution_count": 82,
   "metadata": {},
   "outputs": [
    {
     "output_type": "execute_result",
     "data": {
      "text/plain": "10"
     },
     "metadata": {},
     "execution_count": 82
    }
   ],
   "source": [
    "gdfCloudCoverage.beginposition[0].month"
   ]
  },
  {
   "cell_type": "code",
   "execution_count": 16,
   "metadata": {},
   "outputs": [],
   "source": [
    "toDownload = gdfCloudCoverage.index.values[0]"
   ]
  },
  {
   "cell_type": "code",
   "execution_count": 39,
   "metadata": {},
   "outputs": [
    {
     "output_type": "execute_result",
     "data": {
      "text/plain": "'MULTIPOLYGON (((-77.18736834053161 43.20121135540379, -77.12426105372479 44.18762158427181, -78.49642893280087 44.22597512802537, -78.53726452230805 43.2382731567841, -77.18736834053161 43.20121135540379)))'"
     },
     "metadata": {},
     "execution_count": 39
    }
   ],
   "source": [
    "str(gdfCloudCoverage['geometry'][0])"
   ]
  },
  {
   "cell_type": "code",
   "execution_count": 41,
   "metadata": {
    "tags": []
   },
   "outputs": [
    {
     "output_type": "stream",
     "name": "stdout",
     "text": "POLYGON ((-78.27037673054654 44.1896981276189, -78.2708496590526 44.14957176465543, -78.10005533199619 44.14974883120674, -78.09964628193356 44.18969830598515, -78.27037673054654 44.1896981276189))\n"
    }
   ],
   "source": [
    "print(footprint)"
   ]
  },
  {
   "cell_type": "code",
   "execution_count": 54,
   "metadata": {},
   "outputs": [
    {
     "output_type": "execute_result",
     "data": {
      "text/plain": "True"
     },
     "metadata": {},
     "execution_count": 54
    }
   ],
   "source": [
    "footprint.within(gdfCloudCoverage['geometry'][8])"
   ]
  },
  {
   "cell_type": "code",
   "execution_count": 46,
   "metadata": {},
   "outputs": [
    {
     "output_type": "execute_result",
     "data": {
      "text/plain": "'S2B_MSIL2A_20200617T155829_N0214_R097_T17TQJ_20200617T202806'"
     },
     "metadata": {},
     "execution_count": 46
    }
   ],
   "source": [
    "gdfCloudCoverage['title'][1]"
   ]
  },
  {
   "cell_type": "code",
   "execution_count": 18,
   "metadata": {},
   "outputs": [
    {
     "output_type": "error",
     "ename": "FileExistsError",
     "evalue": "[WinError 183] Cannot create a file when that file already exists: 'rice lake2'",
     "traceback": [
      "\u001b[1;31m---------------------------------------------------------------------------\u001b[0m",
      "\u001b[1;31mFileExistsError\u001b[0m                           Traceback (most recent call last)",
      "\u001b[1;32m<ipython-input-18-b7b2c424c8dc>\u001b[0m in \u001b[0;36m<module>\u001b[1;34m\u001b[0m\n\u001b[1;32m----> 1\u001b[1;33m \u001b[0mapi\u001b[0m\u001b[1;33m.\u001b[0m\u001b[0mdownload\u001b[0m\u001b[1;33m(\u001b[0m\u001b[0mtoDownload\u001b[0m\u001b[1;33m)\u001b[0m\u001b[1;33m\u001b[0m\u001b[1;33m\u001b[0m\u001b[0m\n\u001b[0m",
      "\u001b[1;32mc:\\Users\\Alex\\Documents\\satelliteImagery\\src\\apiSession.py\u001b[0m in \u001b[0;36mdownload\u001b[1;34m(self, link)\u001b[0m\n\u001b[0;32m     42\u001b[0m         \u001b[0mos\u001b[0m\u001b[1;33m.\u001b[0m\u001b[0mchdir\u001b[0m\u001b[1;33m(\u001b[0m\u001b[0mstartingDir\u001b[0m\u001b[1;33m)\u001b[0m\u001b[1;33m\u001b[0m\u001b[1;33m\u001b[0m\u001b[0m\n\u001b[0;32m     43\u001b[0m         \u001b[0mfilePath\u001b[0m \u001b[1;33m=\u001b[0m \u001b[0mself\u001b[0m\u001b[1;33m.\u001b[0m\u001b[0mEXPORTDIRECTORY\u001b[0m \u001b[1;33m+\u001b[0m \u001b[0mself\u001b[0m\u001b[1;33m.\u001b[0m\u001b[0mPROJECTNAME\u001b[0m\u001b[1;33m\u001b[0m\u001b[1;33m\u001b[0m\u001b[0m\n\u001b[1;32m---> 44\u001b[1;33m         \u001b[0mos\u001b[0m\u001b[1;33m.\u001b[0m\u001b[0mmkdir\u001b[0m\u001b[1;33m(\u001b[0m\u001b[0mself\u001b[0m\u001b[1;33m.\u001b[0m\u001b[0mPROJECTNAME\u001b[0m\u001b[1;33m)\u001b[0m\u001b[1;33m\u001b[0m\u001b[1;33m\u001b[0m\u001b[0m\n\u001b[0m\u001b[0;32m     45\u001b[0m         self.api.download(\n\u001b[0;32m     46\u001b[0m             link, directory_path='../downloadedImages/{}/'.format(self.PROJECTNAME))\n",
      "\u001b[1;31mFileExistsError\u001b[0m: [WinError 183] Cannot create a file when that file already exists: 'rice lake2'"
     ]
    }
   ],
   "source": [
    "api.download(toDownload)"
   ]
  },
  {
   "cell_type": "code",
   "execution_count": 55,
   "metadata": {},
   "outputs": [],
   "source": [
    "dict = api.imageDictionnary('c:\\\\Users\\\\Alex\\\\Documents\\\\satelliteImagery\\\\downloadedImages\\\\rice lake\\\\S2B_MSIL2A_20191011T160209_N0213_R097_T17TQK_20191011T201625.SAFE\\\\GRANULE\\\\L2A_T17TQK_A013565_20191011T160358\\\\IMG_DATA\\\\R10m')"
   ]
  },
  {
   "cell_type": "code",
   "execution_count": 56,
   "metadata": {},
   "outputs": [
    {
     "output_type": "execute_result",
     "data": {
      "text/plain": "{'AOT': 'c:\\\\Users\\\\Alex\\\\Documents\\\\satelliteImagery\\\\downloadedImages\\\\rice lake\\\\S2B_MSIL2A_20191011T160209_N0213_R097_T17TQK_20191011T201625.SAFE\\\\GRANULE\\\\L2A_T17TQK_A013565_20191011T160358\\\\IMG_DATA\\\\R10m\\\\T17TQK_20191011T160209_AOT_10m.jp2',\n 'B02': 'c:\\\\Users\\\\Alex\\\\Documents\\\\satelliteImagery\\\\downloadedImages\\\\rice lake\\\\S2B_MSIL2A_20191011T160209_N0213_R097_T17TQK_20191011T201625.SAFE\\\\GRANULE\\\\L2A_T17TQK_A013565_20191011T160358\\\\IMG_DATA\\\\R10m\\\\T17TQK_20191011T160209_B02_10m.jp2',\n 'B03': 'c:\\\\Users\\\\Alex\\\\Documents\\\\satelliteImagery\\\\downloadedImages\\\\rice lake\\\\S2B_MSIL2A_20191011T160209_N0213_R097_T17TQK_20191011T201625.SAFE\\\\GRANULE\\\\L2A_T17TQK_A013565_20191011T160358\\\\IMG_DATA\\\\R10m\\\\T17TQK_20191011T160209_B03_10m.jp2',\n 'B04': 'c:\\\\Users\\\\Alex\\\\Documents\\\\satelliteImagery\\\\downloadedImages\\\\rice lake\\\\S2B_MSIL2A_20191011T160209_N0213_R097_T17TQK_20191011T201625.SAFE\\\\GRANULE\\\\L2A_T17TQK_A013565_20191011T160358\\\\IMG_DATA\\\\R10m\\\\T17TQK_20191011T160209_B04_10m.jp2',\n 'B08': 'c:\\\\Users\\\\Alex\\\\Documents\\\\satelliteImagery\\\\downloadedImages\\\\rice lake\\\\S2B_MSIL2A_20191011T160209_N0213_R097_T17TQK_20191011T201625.SAFE\\\\GRANULE\\\\L2A_T17TQK_A013565_20191011T160358\\\\IMG_DATA\\\\R10m\\\\T17TQK_20191011T160209_B08_10m.jp2',\n 'TCI': 'c:\\\\Users\\\\Alex\\\\Documents\\\\satelliteImagery\\\\downloadedImages\\\\rice lake\\\\S2B_MSIL2A_20191011T160209_N0213_R097_T17TQK_20191011T201625.SAFE\\\\GRANULE\\\\L2A_T17TQK_A013565_20191011T160358\\\\IMG_DATA\\\\R10m\\\\T17TQK_20191011T160209_TCI_10m.jp2',\n 'WVP': 'c:\\\\Users\\\\Alex\\\\Documents\\\\satelliteImagery\\\\downloadedImages\\\\rice lake\\\\S2B_MSIL2A_20191011T160209_N0213_R097_T17TQK_20191011T201625.SAFE\\\\GRANULE\\\\L2A_T17TQK_A013565_20191011T160358\\\\IMG_DATA\\\\R10m\\\\T17TQK_20191011T160209_WVP_10m.jp2'}"
     },
     "metadata": {},
     "execution_count": 56
    }
   ],
   "source": [
    "dict"
   ]
  },
  {
   "cell_type": "markdown",
   "metadata": {},
   "source": [
    "# TODO\n",
    "# generate ndvi\n",
    "# generate terrain\n",
    "# get measurements\n"
   ]
  },
  {
   "cell_type": "code",
   "execution_count": 57,
   "metadata": {},
   "outputs": [],
   "source": [
    "import rasterio\n",
    "from rasterio import rio\n",
    "from rasterio import mask"
   ]
  },
  {
   "cell_type": "markdown",
   "metadata": {},
   "source": [
    "# CREATE RGB IMAGE"
   ]
  },
  {
   "cell_type": "code",
   "execution_count": 58,
   "metadata": {},
   "outputs": [],
   "source": [
    "b2 = rasterio.open(dict['B02'])\n",
    "b3 = rasterio.open(dict['B03'])\n",
    "b4 = rasterio.open(dict['B04'])\n"
   ]
  },
  {
   "cell_type": "code",
   "execution_count": 78,
   "metadata": {},
   "outputs": [],
   "source": [
    "with rasterio.open('RGB.tiff', 'w', driver='Gtiff', width=b2.width, height=b2.height,\n",
    "              count=3, crs=b2.crs, transform=b2.transform, dtype=b2.dtypes[0]) as rgb:\n",
    "    rgb.write(b2.read(1), 1)\n",
    "    rgb.write(b3.read(1), 2)\n",
    "    rgb.write(b4.read(1), 3)\n",
    "    rgb.close()"
   ]
  },
  {
   "cell_type": "code",
   "execution_count": 21,
   "metadata": {},
   "outputs": [
    {
     "output_type": "execute_result",
     "data": {
      "text/plain": "BoundingBox(left=699960.0, bottom=4890240.0, right=809760.0, top=5000040.0)"
     },
     "metadata": {},
     "execution_count": 21
    }
   ],
   "source": [
    "b8.bounds"
   ]
  },
  {
   "cell_type": "code",
   "execution_count": 23,
   "metadata": {},
   "outputs": [
    {
     "output_type": "execute_result",
     "data": {
      "text/plain": "CRS.from_epsg(32617)"
     },
     "metadata": {},
     "execution_count": 23
    }
   ],
   "source": [
    "b8.crs"
   ]
  },
  {
   "cell_type": "code",
   "execution_count": 25,
   "metadata": {},
   "outputs": [],
   "source": [
    "red = b4.read()\n",
    "nir = b8.read()"
   ]
  },
  {
   "cell_type": "code",
   "execution_count": 57,
   "metadata": {},
   "outputs": [],
   "source": [
    "ndvi = (nir.astype(float)-red.astype(float))/(nir+red)"
   ]
  },
  {
   "cell_type": "code",
   "execution_count": 27,
   "metadata": {},
   "outputs": [],
   "source": [
    "meta = b4.meta\n",
    "meta.update(driver='GTiff')\n",
    "meta.update(dtype=rasterio.float32)\n",
    "\n",
    "with rasterio.open('NDVI.tif', 'w', **meta) as dst:\n",
    "    dst.write(ndvi.astype(rasterio.float32))"
   ]
  },
  {
   "cell_type": "markdown",
   "metadata": {},
   "source": [
    "# Crop"
   ]
  },
  {
   "cell_type": "code",
   "execution_count": 72,
   "metadata": {},
   "outputs": [],
   "source": [
    "proj = t.to_crs({'init': 'epsg:32617'})"
   ]
  },
  {
   "cell_type": "code",
   "execution_count": 73,
   "metadata": {},
   "outputs": [
    {
     "output_type": "execute_result",
     "data": {
      "text/plain": "        Name Description                                           geometry\n0  rice lake              POLYGON Z ((718149.093 4896566.030 0.000, 7182...",
      "text/html": "<div>\n<style scoped>\n    .dataframe tbody tr th:only-of-type {\n        vertical-align: middle;\n    }\n\n    .dataframe tbody tr th {\n        vertical-align: top;\n    }\n\n    .dataframe thead th {\n        text-align: right;\n    }\n</style>\n<table border=\"1\" class=\"dataframe\">\n  <thead>\n    <tr style=\"text-align: right;\">\n      <th></th>\n      <th>Name</th>\n      <th>Description</th>\n      <th>geometry</th>\n    </tr>\n  </thead>\n  <tbody>\n    <tr>\n      <th>0</th>\n      <td>rice lake</td>\n      <td></td>\n      <td>POLYGON Z ((718149.093 4896566.030 0.000, 7182...</td>\n    </tr>\n  </tbody>\n</table>\n</div>"
     },
     "metadata": {},
     "execution_count": 73
    }
   ],
   "source": [
    "proj"
   ]
  },
  {
   "cell_type": "code",
   "execution_count": 77,
   "metadata": {},
   "outputs": [],
   "source": [
    "with rasterio.open(\"../downloadedImages/RGB.tiff\") as src:\n",
    "    out_image, out_transform = rasterio.mask.mask(src, proj.geometry,crop=True)\n",
    "    out_meta = src.meta.copy()\n",
    "    out_meta.update({\"driver\": \"GTiff\",\n",
    "                 \"height\": out_image.shape[1],\n",
    "                 \"width\": out_image.shape[2],\n",
    "                 \"transform\": out_transform})\n",
    "    \n",
    "with rasterio.open(\"RGB_masked.tif\", \"w\", **out_meta) as dest:\n",
    "    dest.write(out_image)"
   ]
  },
  {
   "cell_type": "code",
   "execution_count": null,
   "metadata": {},
   "outputs": [],
   "source": []
  },
  {
   "cell_type": "code",
   "execution_count": null,
   "metadata": {},
   "outputs": [],
   "source": [
    "Hb"
   ]
  },
  {
   "cell_type": "code",
   "execution_count": null,
   "metadata": {},
   "outputs": [],
   "source": []
  }
 ],
 "metadata": {
  "language_info": {
   "codemirror_mode": {
    "name": "ipython",
    "version": 3
   },
   "file_extension": ".py",
   "mimetype": "text/x-python",
   "name": "python",
   "nbconvert_exporter": "python",
   "pygments_lexer": "ipython3",
   "version": "3.7.7-final"
  },
  "orig_nbformat": 2,
  "kernelspec": {
   "name": "python_defaultSpec_1594826575409",
   "display_name": "Python 3.7.7 64-bit ('satellite': conda)"
  }
 },
 "nbformat": 4,
 "nbformat_minor": 2
}